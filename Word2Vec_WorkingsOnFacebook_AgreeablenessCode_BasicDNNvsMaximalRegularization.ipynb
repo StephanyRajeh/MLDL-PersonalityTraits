{
 "cells": [
  {
   "cell_type": "markdown",
   "metadata": {},
   "source": [
    "### Characteristics:\n",
    "1. Balanced\n",
    "2. RegAndDropout X\n",
    "3. EmbeddingsUsingWord2VecMechanism-FromScratch (Not pretrained)\n",
    "4. AllDatasetsEN\n",
    "5. Analysis done on Neuroticism trait"
   ]
  },
  {
   "cell_type": "code",
   "execution_count": 1,
   "metadata": {},
   "outputs": [
    {
     "name": "stdout",
     "output_type": "stream",
     "text": [
      "TensorFlow Version: 1.13.1\n",
      "Default GPU Device: /device:GPU:0\n"
     ]
    }
   ],
   "source": [
    "from distutils.version import LooseVersion\n",
    "import warnings\n",
    "import tensorflow as tf\n",
    "\n",
    "# Check TensorFlow Version\n",
    "assert LooseVersion(tf.__version__) >= LooseVersion('1.0'), 'Please use TensorFlow version 1.0 or newer.  You are using {}'.format(tf.__version__)\n",
    "print('TensorFlow Version: {}'.format(tf.__version__))\n",
    "\n",
    "# Check for a GPU\n",
    "if not tf.test.gpu_device_name():\n",
    "    warnings.warn('No GPU found. Please ensure you have installed TensorFlow correctly')\n",
    "else:\n",
    "    print('Default GPU Device: {}'.format(tf.test.gpu_device_name()))"
   ]
  },
  {
   "cell_type": "markdown",
   "metadata": {},
   "source": [
    "# Part 1: Conversion to Binary Classes"
   ]
  },
  {
   "cell_type": "code",
   "execution_count": 2,
   "metadata": {},
   "outputs": [],
   "source": [
    "import numpy as np\n",
    "import pandas as pd"
   ]
  },
  {
   "cell_type": "code",
   "execution_count": 3,
   "metadata": {},
   "outputs": [],
   "source": [
    "#Import Facebook mypersonality dataset\n",
    "df_new = pd.DataFrame()\n",
    "df_new = pd.read_csv('C:/Users/Hassa/Desktop/StephanyAnaconda/Classification/datasets/mypersonality_final.csv', encoding = \"latin_1\")\n",
    "df_new = df_new[['#AUTHID','STATUS','sOPN','sCON','sEXT','sAGR','sNEU']]\n",
    "\n",
    "a = df_new"
   ]
  },
  {
   "cell_type": "code",
   "execution_count": 4,
   "metadata": {},
   "outputs": [
    {
     "data": {
      "text/html": [
       "<div>\n",
       "<style scoped>\n",
       "    .dataframe tbody tr th:only-of-type {\n",
       "        vertical-align: middle;\n",
       "    }\n",
       "\n",
       "    .dataframe tbody tr th {\n",
       "        vertical-align: top;\n",
       "    }\n",
       "\n",
       "    .dataframe thead th {\n",
       "        text-align: right;\n",
       "    }\n",
       "</style>\n",
       "<table border=\"1\" class=\"dataframe\">\n",
       "  <thead>\n",
       "    <tr style=\"text-align: right;\">\n",
       "      <th></th>\n",
       "      <th>#AUTHID</th>\n",
       "      <th>STATUS</th>\n",
       "      <th>sOPN</th>\n",
       "      <th>sCON</th>\n",
       "      <th>sEXT</th>\n",
       "      <th>sAGR</th>\n",
       "      <th>sNEU</th>\n",
       "    </tr>\n",
       "  </thead>\n",
       "  <tbody>\n",
       "    <tr>\n",
       "      <th>0</th>\n",
       "      <td>b7b7764cfa1c523e4e93ab2a79a946c4</td>\n",
       "      <td>likes the sound of thunder.</td>\n",
       "      <td>4.40</td>\n",
       "      <td>3.25</td>\n",
       "      <td>2.65</td>\n",
       "      <td>3.15</td>\n",
       "      <td>3.00</td>\n",
       "    </tr>\n",
       "    <tr>\n",
       "      <th>1</th>\n",
       "      <td>b7b7764cfa1c523e4e93ab2a79a946c4</td>\n",
       "      <td>is so sleepy it's not even funny that's she ca...</td>\n",
       "      <td>4.40</td>\n",
       "      <td>3.25</td>\n",
       "      <td>2.65</td>\n",
       "      <td>3.15</td>\n",
       "      <td>3.00</td>\n",
       "    </tr>\n",
       "    <tr>\n",
       "      <th>2</th>\n",
       "      <td>b7b7764cfa1c523e4e93ab2a79a946c4</td>\n",
       "      <td>is sore and wants the knot of muscles at the b...</td>\n",
       "      <td>4.40</td>\n",
       "      <td>3.25</td>\n",
       "      <td>2.65</td>\n",
       "      <td>3.15</td>\n",
       "      <td>3.00</td>\n",
       "    </tr>\n",
       "    <tr>\n",
       "      <th>3</th>\n",
       "      <td>b7b7764cfa1c523e4e93ab2a79a946c4</td>\n",
       "      <td>likes how the day sounds in this new song.</td>\n",
       "      <td>4.40</td>\n",
       "      <td>3.25</td>\n",
       "      <td>2.65</td>\n",
       "      <td>3.15</td>\n",
       "      <td>3.00</td>\n",
       "    </tr>\n",
       "    <tr>\n",
       "      <th>4</th>\n",
       "      <td>b7b7764cfa1c523e4e93ab2a79a946c4</td>\n",
       "      <td>is home. &lt;3</td>\n",
       "      <td>4.40</td>\n",
       "      <td>3.25</td>\n",
       "      <td>2.65</td>\n",
       "      <td>3.15</td>\n",
       "      <td>3.00</td>\n",
       "    </tr>\n",
       "    <tr>\n",
       "      <th>5</th>\n",
       "      <td>b7b7764cfa1c523e4e93ab2a79a946c4</td>\n",
       "      <td>www.thejokerblogs.com</td>\n",
       "      <td>4.40</td>\n",
       "      <td>3.25</td>\n",
       "      <td>2.65</td>\n",
       "      <td>3.15</td>\n",
       "      <td>3.00</td>\n",
       "    </tr>\n",
       "    <tr>\n",
       "      <th>6</th>\n",
       "      <td>b7b7764cfa1c523e4e93ab2a79a946c4</td>\n",
       "      <td>saw a nun zombie, and liked it. Also, *PROPNAM...</td>\n",
       "      <td>4.40</td>\n",
       "      <td>3.25</td>\n",
       "      <td>2.65</td>\n",
       "      <td>3.15</td>\n",
       "      <td>3.00</td>\n",
       "    </tr>\n",
       "    <tr>\n",
       "      <th>7</th>\n",
       "      <td>b7b7764cfa1c523e4e93ab2a79a946c4</td>\n",
       "      <td>is in Kentucky. 421 miles into her 1100 mile j...</td>\n",
       "      <td>4.40</td>\n",
       "      <td>3.25</td>\n",
       "      <td>2.65</td>\n",
       "      <td>3.15</td>\n",
       "      <td>3.00</td>\n",
       "    </tr>\n",
       "    <tr>\n",
       "      <th>8</th>\n",
       "      <td>b7b7764cfa1c523e4e93ab2a79a946c4</td>\n",
       "      <td>was about to finish a digital painting before ...</td>\n",
       "      <td>4.40</td>\n",
       "      <td>3.25</td>\n",
       "      <td>2.65</td>\n",
       "      <td>3.15</td>\n",
       "      <td>3.00</td>\n",
       "    </tr>\n",
       "    <tr>\n",
       "      <th>9</th>\n",
       "      <td>b7b7764cfa1c523e4e93ab2a79a946c4</td>\n",
       "      <td>is celebrating her new haircut by listening to...</td>\n",
       "      <td>4.40</td>\n",
       "      <td>3.25</td>\n",
       "      <td>2.65</td>\n",
       "      <td>3.15</td>\n",
       "      <td>3.00</td>\n",
       "    </tr>\n",
       "    <tr>\n",
       "      <th>10</th>\n",
       "      <td>b7b7764cfa1c523e4e93ab2a79a946c4</td>\n",
       "      <td>has a crush on the Green Lantern.</td>\n",
       "      <td>4.40</td>\n",
       "      <td>3.25</td>\n",
       "      <td>2.65</td>\n",
       "      <td>3.15</td>\n",
       "      <td>3.00</td>\n",
       "    </tr>\n",
       "    <tr>\n",
       "      <th>11</th>\n",
       "      <td>b7b7764cfa1c523e4e93ab2a79a946c4</td>\n",
       "      <td>has magic on the brain.</td>\n",
       "      <td>4.40</td>\n",
       "      <td>3.25</td>\n",
       "      <td>2.65</td>\n",
       "      <td>3.15</td>\n",
       "      <td>3.00</td>\n",
       "    </tr>\n",
       "    <tr>\n",
       "      <th>12</th>\n",
       "      <td>b7b7764cfa1c523e4e93ab2a79a946c4</td>\n",
       "      <td>saw Transformers, Up, and Year One this week. ...</td>\n",
       "      <td>4.40</td>\n",
       "      <td>3.25</td>\n",
       "      <td>2.65</td>\n",
       "      <td>3.15</td>\n",
       "      <td>3.00</td>\n",
       "    </tr>\n",
       "    <tr>\n",
       "      <th>13</th>\n",
       "      <td>b7b7764cfa1c523e4e93ab2a79a946c4</td>\n",
       "      <td>Who wants to meet up on schedule pick-up day a...</td>\n",
       "      <td>4.40</td>\n",
       "      <td>3.25</td>\n",
       "      <td>2.65</td>\n",
       "      <td>3.15</td>\n",
       "      <td>3.00</td>\n",
       "    </tr>\n",
       "    <tr>\n",
       "      <th>14</th>\n",
       "      <td>b7b7764cfa1c523e4e93ab2a79a946c4</td>\n",
       "      <td>desires the thrill of inspiration. Also, money.</td>\n",
       "      <td>4.40</td>\n",
       "      <td>3.25</td>\n",
       "      <td>2.65</td>\n",
       "      <td>3.15</td>\n",
       "      <td>3.00</td>\n",
       "    </tr>\n",
       "    <tr>\n",
       "      <th>15</th>\n",
       "      <td>b7b7764cfa1c523e4e93ab2a79a946c4</td>\n",
       "      <td>is going to bed at 9:30! Yeah!</td>\n",
       "      <td>4.40</td>\n",
       "      <td>3.25</td>\n",
       "      <td>2.65</td>\n",
       "      <td>3.15</td>\n",
       "      <td>3.00</td>\n",
       "    </tr>\n",
       "    <tr>\n",
       "      <th>16</th>\n",
       "      <td>b7b7764cfa1c523e4e93ab2a79a946c4</td>\n",
       "      <td>is reading, admiring her permit, and occasiona...</td>\n",
       "      <td>4.40</td>\n",
       "      <td>3.25</td>\n",
       "      <td>2.65</td>\n",
       "      <td>3.15</td>\n",
       "      <td>3.00</td>\n",
       "    </tr>\n",
       "    <tr>\n",
       "      <th>17</th>\n",
       "      <td>b7b7764cfa1c523e4e93ab2a79a946c4</td>\n",
       "      <td>thinks intangibility should be an option in re...</td>\n",
       "      <td>4.40</td>\n",
       "      <td>3.25</td>\n",
       "      <td>2.65</td>\n",
       "      <td>3.15</td>\n",
       "      <td>3.00</td>\n",
       "    </tr>\n",
       "    <tr>\n",
       "      <th>18</th>\n",
       "      <td>b7b7764cfa1c523e4e93ab2a79a946c4</td>\n",
       "      <td>is tired. *PROPNAME*, let me go to sleep pl0x.</td>\n",
       "      <td>4.40</td>\n",
       "      <td>3.25</td>\n",
       "      <td>2.65</td>\n",
       "      <td>3.15</td>\n",
       "      <td>3.00</td>\n",
       "    </tr>\n",
       "    <tr>\n",
       "      <th>19</th>\n",
       "      <td>b7b7764cfa1c523e4e93ab2a79a946c4</td>\n",
       "      <td>is discovering the many flavors of insomnia.</td>\n",
       "      <td>4.40</td>\n",
       "      <td>3.25</td>\n",
       "      <td>2.65</td>\n",
       "      <td>3.15</td>\n",
       "      <td>3.00</td>\n",
       "    </tr>\n",
       "    <tr>\n",
       "      <th>20</th>\n",
       "      <td>b7b7764cfa1c523e4e93ab2a79a946c4</td>\n",
       "      <td>is watching cousin play computer game on telev...</td>\n",
       "      <td>4.40</td>\n",
       "      <td>3.25</td>\n",
       "      <td>2.65</td>\n",
       "      <td>3.15</td>\n",
       "      <td>3.00</td>\n",
       "    </tr>\n",
       "    <tr>\n",
       "      <th>21</th>\n",
       "      <td>b7b7764cfa1c523e4e93ab2a79a946c4</td>\n",
       "      <td>Why is it I'm only getting the urge to draw wh...</td>\n",
       "      <td>4.40</td>\n",
       "      <td>3.25</td>\n",
       "      <td>2.65</td>\n",
       "      <td>3.15</td>\n",
       "      <td>3.00</td>\n",
       "    </tr>\n",
       "    <tr>\n",
       "      <th>22</th>\n",
       "      <td>b7b7764cfa1c523e4e93ab2a79a946c4</td>\n",
       "      <td>Who'da thought a single text message could be ...</td>\n",
       "      <td>4.40</td>\n",
       "      <td>3.25</td>\n",
       "      <td>2.65</td>\n",
       "      <td>3.15</td>\n",
       "      <td>3.00</td>\n",
       "    </tr>\n",
       "    <tr>\n",
       "      <th>23</th>\n",
       "      <td>b7b7764cfa1c523e4e93ab2a79a946c4</td>\n",
       "      <td>wishes to develop a super power that prevents ...</td>\n",
       "      <td>4.40</td>\n",
       "      <td>3.25</td>\n",
       "      <td>2.65</td>\n",
       "      <td>3.15</td>\n",
       "      <td>3.00</td>\n",
       "    </tr>\n",
       "    <tr>\n",
       "      <th>24</th>\n",
       "      <td>b7b7764cfa1c523e4e93ab2a79a946c4</td>\n",
       "      <td>TELL ME WHAT TO DRAW, PLOX.</td>\n",
       "      <td>4.40</td>\n",
       "      <td>3.25</td>\n",
       "      <td>2.65</td>\n",
       "      <td>3.15</td>\n",
       "      <td>3.00</td>\n",
       "    </tr>\n",
       "    <tr>\n",
       "      <th>25</th>\n",
       "      <td>b7b7764cfa1c523e4e93ab2a79a946c4</td>\n",
       "      <td>found a bunny, bunny died, buried bunny, now i...</td>\n",
       "      <td>4.40</td>\n",
       "      <td>3.25</td>\n",
       "      <td>2.65</td>\n",
       "      <td>3.15</td>\n",
       "      <td>3.00</td>\n",
       "    </tr>\n",
       "    <tr>\n",
       "      <th>26</th>\n",
       "      <td>b7b7764cfa1c523e4e93ab2a79a946c4</td>\n",
       "      <td>&lt;3</td>\n",
       "      <td>4.40</td>\n",
       "      <td>3.25</td>\n",
       "      <td>2.65</td>\n",
       "      <td>3.15</td>\n",
       "      <td>3.00</td>\n",
       "    </tr>\n",
       "    <tr>\n",
       "      <th>27</th>\n",
       "      <td>b7b7764cfa1c523e4e93ab2a79a946c4</td>\n",
       "      <td>is just about insane by now.</td>\n",
       "      <td>4.40</td>\n",
       "      <td>3.25</td>\n",
       "      <td>2.65</td>\n",
       "      <td>3.15</td>\n",
       "      <td>3.00</td>\n",
       "    </tr>\n",
       "    <tr>\n",
       "      <th>28</th>\n",
       "      <td>b7b7764cfa1c523e4e93ab2a79a946c4</td>\n",
       "      <td>wants to sleep eight hours tonight. And so she...</td>\n",
       "      <td>4.40</td>\n",
       "      <td>3.25</td>\n",
       "      <td>2.65</td>\n",
       "      <td>3.15</td>\n",
       "      <td>3.00</td>\n",
       "    </tr>\n",
       "    <tr>\n",
       "      <th>29</th>\n",
       "      <td>b7b7764cfa1c523e4e93ab2a79a946c4</td>\n",
       "      <td>really hates hormones and emotions right now. ...</td>\n",
       "      <td>4.40</td>\n",
       "      <td>3.25</td>\n",
       "      <td>2.65</td>\n",
       "      <td>3.15</td>\n",
       "      <td>3.00</td>\n",
       "    </tr>\n",
       "    <tr>\n",
       "      <th>...</th>\n",
       "      <td>...</td>\n",
       "      <td>...</td>\n",
       "      <td>...</td>\n",
       "      <td>...</td>\n",
       "      <td>...</td>\n",
       "      <td>...</td>\n",
       "      <td>...</td>\n",
       "    </tr>\n",
       "    <tr>\n",
       "      <th>9887</th>\n",
       "      <td>d2ee2871aa02698e66fdc72b2218cdd8</td>\n",
       "      <td>Seriously, if a guy that you're dating ever sa...</td>\n",
       "      <td>4.65</td>\n",
       "      <td>4.00</td>\n",
       "      <td>2.75</td>\n",
       "      <td>2.50</td>\n",
       "      <td>3.25</td>\n",
       "    </tr>\n",
       "    <tr>\n",
       "      <th>9888</th>\n",
       "      <td>d2ee2871aa02698e66fdc72b2218cdd8</td>\n",
       "      <td>Still waiting....so glad Monday's a holiday!</td>\n",
       "      <td>4.65</td>\n",
       "      <td>4.00</td>\n",
       "      <td>2.75</td>\n",
       "      <td>2.50</td>\n",
       "      <td>3.25</td>\n",
       "    </tr>\n",
       "    <tr>\n",
       "      <th>9889</th>\n",
       "      <td>d2ee2871aa02698e66fdc72b2218cdd8</td>\n",
       "      <td>Why did they discontinue naptime after kinderg...</td>\n",
       "      <td>4.65</td>\n",
       "      <td>4.00</td>\n",
       "      <td>2.75</td>\n",
       "      <td>2.50</td>\n",
       "      <td>3.25</td>\n",
       "    </tr>\n",
       "    <tr>\n",
       "      <th>9890</th>\n",
       "      <td>d2ee2871aa02698e66fdc72b2218cdd8</td>\n",
       "      <td>Yay, finally got my computer set up at my hous...</td>\n",
       "      <td>4.65</td>\n",
       "      <td>4.00</td>\n",
       "      <td>2.75</td>\n",
       "      <td>2.50</td>\n",
       "      <td>3.25</td>\n",
       "    </tr>\n",
       "    <tr>\n",
       "      <th>9891</th>\n",
       "      <td>d2ee2871aa02698e66fdc72b2218cdd8</td>\n",
       "      <td>UGGGGGGHHHHH! My WoW account is totally screwe...</td>\n",
       "      <td>4.65</td>\n",
       "      <td>4.00</td>\n",
       "      <td>2.75</td>\n",
       "      <td>2.50</td>\n",
       "      <td>3.25</td>\n",
       "    </tr>\n",
       "    <tr>\n",
       "      <th>9892</th>\n",
       "      <td>d2ee2871aa02698e66fdc72b2218cdd8</td>\n",
       "      <td>Wowsa....greeeeeeeat job news down the grapevi...</td>\n",
       "      <td>4.65</td>\n",
       "      <td>4.00</td>\n",
       "      <td>2.75</td>\n",
       "      <td>2.50</td>\n",
       "      <td>3.25</td>\n",
       "    </tr>\n",
       "    <tr>\n",
       "      <th>9893</th>\n",
       "      <td>d2ee2871aa02698e66fdc72b2218cdd8</td>\n",
       "      <td>I feel like I'm drowning in paper work, uggh! :X</td>\n",
       "      <td>4.65</td>\n",
       "      <td>4.00</td>\n",
       "      <td>2.75</td>\n",
       "      <td>2.50</td>\n",
       "      <td>3.25</td>\n",
       "    </tr>\n",
       "    <tr>\n",
       "      <th>9894</th>\n",
       "      <td>d2ee2871aa02698e66fdc72b2218cdd8</td>\n",
       "      <td>Brrrrrrrrrrrrrrrr, cold day! Where are those 4...</td>\n",
       "      <td>4.65</td>\n",
       "      <td>4.00</td>\n",
       "      <td>2.75</td>\n",
       "      <td>2.50</td>\n",
       "      <td>3.25</td>\n",
       "    </tr>\n",
       "    <tr>\n",
       "      <th>9895</th>\n",
       "      <td>d2ee2871aa02698e66fdc72b2218cdd8</td>\n",
       "      <td>Awesome! First sunny day in ages...but now it'...</td>\n",
       "      <td>4.65</td>\n",
       "      <td>4.00</td>\n",
       "      <td>2.75</td>\n",
       "      <td>2.50</td>\n",
       "      <td>3.25</td>\n",
       "    </tr>\n",
       "    <tr>\n",
       "      <th>9896</th>\n",
       "      <td>d2ee2871aa02698e66fdc72b2218cdd8</td>\n",
       "      <td>Woot woot! Good week...super productive and bu...</td>\n",
       "      <td>4.65</td>\n",
       "      <td>4.00</td>\n",
       "      <td>2.75</td>\n",
       "      <td>2.50</td>\n",
       "      <td>3.25</td>\n",
       "    </tr>\n",
       "    <tr>\n",
       "      <th>9897</th>\n",
       "      <td>d2ee2871aa02698e66fdc72b2218cdd8</td>\n",
       "      <td>I hope it snows enough to go sledding...who wa...</td>\n",
       "      <td>4.65</td>\n",
       "      <td>4.00</td>\n",
       "      <td>2.75</td>\n",
       "      <td>2.50</td>\n",
       "      <td>3.25</td>\n",
       "    </tr>\n",
       "    <tr>\n",
       "      <th>9898</th>\n",
       "      <td>d2ee2871aa02698e66fdc72b2218cdd8</td>\n",
       "      <td>Crap, I think my eyes hate me. Far away stuff ...</td>\n",
       "      <td>4.65</td>\n",
       "      <td>4.00</td>\n",
       "      <td>2.75</td>\n",
       "      <td>2.50</td>\n",
       "      <td>3.25</td>\n",
       "    </tr>\n",
       "    <tr>\n",
       "      <th>9899</th>\n",
       "      <td>d2ee2871aa02698e66fdc72b2218cdd8</td>\n",
       "      <td>Rain, rain, go away, don't come back 'til I'm ...</td>\n",
       "      <td>4.65</td>\n",
       "      <td>4.00</td>\n",
       "      <td>2.75</td>\n",
       "      <td>2.50</td>\n",
       "      <td>3.25</td>\n",
       "    </tr>\n",
       "    <tr>\n",
       "      <th>9900</th>\n",
       "      <td>d2ee2871aa02698e66fdc72b2218cdd8</td>\n",
       "      <td>It's not that I can't live without you; it's t...</td>\n",
       "      <td>4.65</td>\n",
       "      <td>4.00</td>\n",
       "      <td>2.75</td>\n",
       "      <td>2.50</td>\n",
       "      <td>3.25</td>\n",
       "    </tr>\n",
       "    <tr>\n",
       "      <th>9901</th>\n",
       "      <td>d2ee2871aa02698e66fdc72b2218cdd8</td>\n",
       "      <td>It's a beautiful day in a neighborhood, a beau...</td>\n",
       "      <td>4.65</td>\n",
       "      <td>4.00</td>\n",
       "      <td>2.75</td>\n",
       "      <td>2.50</td>\n",
       "      <td>3.25</td>\n",
       "    </tr>\n",
       "    <tr>\n",
       "      <th>9902</th>\n",
       "      <td>ea890531d3e0547166efde52d843099e</td>\n",
       "      <td>Just wanted to thank everyone for all the supp...</td>\n",
       "      <td>5.00</td>\n",
       "      <td>3.50</td>\n",
       "      <td>4.75</td>\n",
       "      <td>3.75</td>\n",
       "      <td>4.25</td>\n",
       "    </tr>\n",
       "    <tr>\n",
       "      <th>9903</th>\n",
       "      <td>ea890531d3e0547166efde52d843099e</td>\n",
       "      <td>using facebook as procrastination for practicu...</td>\n",
       "      <td>5.00</td>\n",
       "      <td>3.50</td>\n",
       "      <td>4.75</td>\n",
       "      <td>3.75</td>\n",
       "      <td>4.25</td>\n",
       "    </tr>\n",
       "    <tr>\n",
       "      <th>9904</th>\n",
       "      <td>ea890531d3e0547166efde52d843099e</td>\n",
       "      <td>First day quitting smoking...wish me luck!!!</td>\n",
       "      <td>5.00</td>\n",
       "      <td>3.50</td>\n",
       "      <td>4.75</td>\n",
       "      <td>3.75</td>\n",
       "      <td>4.25</td>\n",
       "    </tr>\n",
       "    <tr>\n",
       "      <th>9905</th>\n",
       "      <td>ea890531d3e0547166efde52d843099e</td>\n",
       "      <td>you know when you work your @$$ off for a real...</td>\n",
       "      <td>5.00</td>\n",
       "      <td>3.50</td>\n",
       "      <td>4.75</td>\n",
       "      <td>3.75</td>\n",
       "      <td>4.25</td>\n",
       "    </tr>\n",
       "    <tr>\n",
       "      <th>9906</th>\n",
       "      <td>fbe5aa478508d1dc931427ade5d9e1b4</td>\n",
       "      <td>Totalled my car last night. Luckilly no one wa...</td>\n",
       "      <td>4.00</td>\n",
       "      <td>4.00</td>\n",
       "      <td>3.25</td>\n",
       "      <td>2.25</td>\n",
       "      <td>2.75</td>\n",
       "    </tr>\n",
       "    <tr>\n",
       "      <th>9907</th>\n",
       "      <td>fbe5aa478508d1dc931427ade5d9e1b4</td>\n",
       "      <td>Oh well.  Only two things to do when your team...</td>\n",
       "      <td>4.00</td>\n",
       "      <td>4.00</td>\n",
       "      <td>3.25</td>\n",
       "      <td>2.25</td>\n",
       "      <td>2.75</td>\n",
       "    </tr>\n",
       "    <tr>\n",
       "      <th>9908</th>\n",
       "      <td>fbe5aa478508d1dc931427ade5d9e1b4</td>\n",
       "      <td>And the cabin fever begins.</td>\n",
       "      <td>4.00</td>\n",
       "      <td>4.00</td>\n",
       "      <td>3.25</td>\n",
       "      <td>2.25</td>\n",
       "      <td>2.75</td>\n",
       "    </tr>\n",
       "    <tr>\n",
       "      <th>9909</th>\n",
       "      <td>35efb99775d5ee7e83cf7912591984d5</td>\n",
       "      <td>Facebook me marea. Me hates it long time T-T</td>\n",
       "      <td>4.10</td>\n",
       "      <td>2.35</td>\n",
       "      <td>2.45</td>\n",
       "      <td>2.85</td>\n",
       "      <td>4.00</td>\n",
       "    </tr>\n",
       "    <tr>\n",
       "      <th>9910</th>\n",
       "      <td>a764ca41dca158d7a191505dcc8ce47f</td>\n",
       "      <td>Red</td>\n",
       "      <td>3.60</td>\n",
       "      <td>4.10</td>\n",
       "      <td>3.70</td>\n",
       "      <td>4.20</td>\n",
       "      <td>2.50</td>\n",
       "    </tr>\n",
       "    <tr>\n",
       "      <th>9911</th>\n",
       "      <td>deb899e426c1a5c66c24eeb0d7df6257</td>\n",
       "      <td>About mornings and winter,and magic.</td>\n",
       "      <td>4.60</td>\n",
       "      <td>2.90</td>\n",
       "      <td>2.15</td>\n",
       "      <td>4.10</td>\n",
       "      <td>2.15</td>\n",
       "    </tr>\n",
       "    <tr>\n",
       "      <th>9912</th>\n",
       "      <td>deb899e426c1a5c66c24eeb0d7df6257</td>\n",
       "      <td>little things give you away.</td>\n",
       "      <td>4.60</td>\n",
       "      <td>2.90</td>\n",
       "      <td>2.15</td>\n",
       "      <td>4.10</td>\n",
       "      <td>2.15</td>\n",
       "    </tr>\n",
       "    <tr>\n",
       "      <th>9913</th>\n",
       "      <td>ea28a927cb6663480ea33ca917c3c8ba</td>\n",
       "      <td>is wishing it was Saturday.</td>\n",
       "      <td>4.50</td>\n",
       "      <td>3.95</td>\n",
       "      <td>4.05</td>\n",
       "      <td>3.80</td>\n",
       "      <td>3.35</td>\n",
       "    </tr>\n",
       "    <tr>\n",
       "      <th>9914</th>\n",
       "      <td>ea28a927cb6663480ea33ca917c3c8ba</td>\n",
       "      <td>is studying hard for the G.R.E.</td>\n",
       "      <td>4.50</td>\n",
       "      <td>3.95</td>\n",
       "      <td>4.05</td>\n",
       "      <td>3.80</td>\n",
       "      <td>3.35</td>\n",
       "    </tr>\n",
       "    <tr>\n",
       "      <th>9915</th>\n",
       "      <td>5532642937eb3497a43e15dbb23a9d2d</td>\n",
       "      <td>snipers get more head</td>\n",
       "      <td>3.95</td>\n",
       "      <td>3.40</td>\n",
       "      <td>1.40</td>\n",
       "      <td>3.30</td>\n",
       "      <td>4.05</td>\n",
       "    </tr>\n",
       "    <tr>\n",
       "      <th>9916</th>\n",
       "      <td>a286b7286b1247d4a7851709e9f31e1e</td>\n",
       "      <td>Last night was amazing! Not only did I see *PR...</td>\n",
       "      <td>4.00</td>\n",
       "      <td>3.50</td>\n",
       "      <td>4.25</td>\n",
       "      <td>3.25</td>\n",
       "      <td>3.00</td>\n",
       "    </tr>\n",
       "  </tbody>\n",
       "</table>\n",
       "<p>9917 rows × 7 columns</p>\n",
       "</div>"
      ],
      "text/plain": [
       "                               #AUTHID  \\\n",
       "0     b7b7764cfa1c523e4e93ab2a79a946c4   \n",
       "1     b7b7764cfa1c523e4e93ab2a79a946c4   \n",
       "2     b7b7764cfa1c523e4e93ab2a79a946c4   \n",
       "3     b7b7764cfa1c523e4e93ab2a79a946c4   \n",
       "4     b7b7764cfa1c523e4e93ab2a79a946c4   \n",
       "...                                ...   \n",
       "9912  deb899e426c1a5c66c24eeb0d7df6257   \n",
       "9913  ea28a927cb6663480ea33ca917c3c8ba   \n",
       "9914  ea28a927cb6663480ea33ca917c3c8ba   \n",
       "9915  5532642937eb3497a43e15dbb23a9d2d   \n",
       "9916  a286b7286b1247d4a7851709e9f31e1e   \n",
       "\n",
       "                                                 STATUS  sOPN  sCON  sEXT  \\\n",
       "0                           likes the sound of thunder.  4.40  3.25  2.65   \n",
       "1     is so sleepy it's not even funny that's she ca...  4.40  3.25  2.65   \n",
       "2     is sore and wants the knot of muscles at the b...  4.40  3.25  2.65   \n",
       "3            likes how the day sounds in this new song.  4.40  3.25  2.65   \n",
       "4                                           is home. <3  4.40  3.25  2.65   \n",
       "...                                                 ...   ...   ...   ...   \n",
       "9912                       little things give you away.  4.60  2.90  2.15   \n",
       "9913                        is wishing it was Saturday.  4.50  3.95  4.05   \n",
       "9914                    is studying hard for the G.R.E.  4.50  3.95  4.05   \n",
       "9915                              snipers get more head  3.95  3.40  1.40   \n",
       "9916  Last night was amazing! Not only did I see *PR...  4.00  3.50  4.25   \n",
       "\n",
       "      sAGR  sNEU  \n",
       "0     3.15  3.00  \n",
       "1     3.15  3.00  \n",
       "2     3.15  3.00  \n",
       "3     3.15  3.00  \n",
       "4     3.15  3.00  \n",
       "...    ...   ...  \n",
       "9912  4.10  2.15  \n",
       "9913  3.80  3.35  \n",
       "9914  3.80  3.35  \n",
       "9915  3.30  4.05  \n",
       "9916  3.25  3.00  \n",
       "\n",
       "[9917 rows x 7 columns]"
      ]
     },
     "execution_count": 4,
     "metadata": {},
     "output_type": "execute_result"
    }
   ],
   "source": [
    "usergroup = a\n",
    "usergroup"
   ]
  },
  {
   "cell_type": "markdown",
   "metadata": {},
   "source": [
    "# Thresholding at 2.5 where our scale's minimum is 0.0 and  maximum is 5.0"
   ]
  },
  {
   "cell_type": "code",
   "execution_count": 5,
   "metadata": {},
   "outputs": [],
   "source": [
    "def label_sOPN (row):\n",
    "    if row['sOPN'] >= 2.5:\n",
    "        return 1\n",
    "    if row['sOPN'] < 2.5:\n",
    "        return 0"
   ]
  },
  {
   "cell_type": "code",
   "execution_count": 6,
   "metadata": {},
   "outputs": [],
   "source": [
    "def label_sCON (row):\n",
    "    if row['sCON'] >= 2.5:\n",
    "        return 1\n",
    "    if row['sCON'] < 2.5:\n",
    "        return 0"
   ]
  },
  {
   "cell_type": "code",
   "execution_count": 7,
   "metadata": {},
   "outputs": [],
   "source": [
    "def label_sEXT (row):\n",
    "    if row['sEXT'] >= 2.5:\n",
    "        return 1\n",
    "    if row['sEXT'] < 2.5:\n",
    "        return 0"
   ]
  },
  {
   "cell_type": "code",
   "execution_count": 8,
   "metadata": {},
   "outputs": [],
   "source": [
    "def label_sAGR (row):\n",
    "    if row['sAGR'] >= 2.5:\n",
    "        return 1\n",
    "    if row['sAGR'] < 2.5:\n",
    "        return 0"
   ]
  },
  {
   "cell_type": "code",
   "execution_count": 9,
   "metadata": {},
   "outputs": [],
   "source": [
    "def label_sNEU (row):\n",
    "    if row['sNEU'] >= 2.5:\n",
    "        return 1\n",
    "    if row['sNEU'] < 2.5:\n",
    "        return 0"
   ]
  },
  {
   "cell_type": "code",
   "execution_count": 10,
   "metadata": {},
   "outputs": [],
   "source": [
    "usergroup['cOPN'] = usergroup.apply (lambda row: label_sOPN(row), axis=1)\n",
    "usergroup['cCON'] = usergroup.apply (lambda row: label_sCON(row), axis=1)\n",
    "usergroup['cEXT'] = usergroup.apply (lambda row: label_sEXT(row), axis=1)\n",
    "usergroup['cAGR'] = usergroup.apply (lambda row: label_sAGR(row), axis=1)\n",
    "usergroup['cNEU'] = usergroup.apply (lambda row: label_sNEU(row), axis=1)"
   ]
  },
  {
   "cell_type": "code",
   "execution_count": 11,
   "metadata": {},
   "outputs": [
    {
     "data": {
      "text/html": [
       "<div>\n",
       "<style scoped>\n",
       "    .dataframe tbody tr th:only-of-type {\n",
       "        vertical-align: middle;\n",
       "    }\n",
       "\n",
       "    .dataframe tbody tr th {\n",
       "        vertical-align: top;\n",
       "    }\n",
       "\n",
       "    .dataframe thead th {\n",
       "        text-align: right;\n",
       "    }\n",
       "</style>\n",
       "<table border=\"1\" class=\"dataframe\">\n",
       "  <thead>\n",
       "    <tr style=\"text-align: right;\">\n",
       "      <th></th>\n",
       "      <th>#AUTHID</th>\n",
       "      <th>STATUS</th>\n",
       "      <th>sOPN</th>\n",
       "      <th>sCON</th>\n",
       "      <th>sEXT</th>\n",
       "      <th>sAGR</th>\n",
       "      <th>sNEU</th>\n",
       "      <th>cOPN</th>\n",
       "      <th>cCON</th>\n",
       "      <th>cEXT</th>\n",
       "      <th>cAGR</th>\n",
       "      <th>cNEU</th>\n",
       "    </tr>\n",
       "  </thead>\n",
       "  <tbody>\n",
       "    <tr>\n",
       "      <th>0</th>\n",
       "      <td>b7b7764cfa1c523e4e93ab2a79a946c4</td>\n",
       "      <td>likes the sound of thunder.</td>\n",
       "      <td>4.40</td>\n",
       "      <td>3.25</td>\n",
       "      <td>2.65</td>\n",
       "      <td>3.15</td>\n",
       "      <td>3.00</td>\n",
       "      <td>1</td>\n",
       "      <td>1</td>\n",
       "      <td>1</td>\n",
       "      <td>1</td>\n",
       "      <td>1</td>\n",
       "    </tr>\n",
       "    <tr>\n",
       "      <th>1</th>\n",
       "      <td>b7b7764cfa1c523e4e93ab2a79a946c4</td>\n",
       "      <td>is so sleepy it's not even funny that's she ca...</td>\n",
       "      <td>4.40</td>\n",
       "      <td>3.25</td>\n",
       "      <td>2.65</td>\n",
       "      <td>3.15</td>\n",
       "      <td>3.00</td>\n",
       "      <td>1</td>\n",
       "      <td>1</td>\n",
       "      <td>1</td>\n",
       "      <td>1</td>\n",
       "      <td>1</td>\n",
       "    </tr>\n",
       "    <tr>\n",
       "      <th>2</th>\n",
       "      <td>b7b7764cfa1c523e4e93ab2a79a946c4</td>\n",
       "      <td>is sore and wants the knot of muscles at the b...</td>\n",
       "      <td>4.40</td>\n",
       "      <td>3.25</td>\n",
       "      <td>2.65</td>\n",
       "      <td>3.15</td>\n",
       "      <td>3.00</td>\n",
       "      <td>1</td>\n",
       "      <td>1</td>\n",
       "      <td>1</td>\n",
       "      <td>1</td>\n",
       "      <td>1</td>\n",
       "    </tr>\n",
       "    <tr>\n",
       "      <th>3</th>\n",
       "      <td>b7b7764cfa1c523e4e93ab2a79a946c4</td>\n",
       "      <td>likes how the day sounds in this new song.</td>\n",
       "      <td>4.40</td>\n",
       "      <td>3.25</td>\n",
       "      <td>2.65</td>\n",
       "      <td>3.15</td>\n",
       "      <td>3.00</td>\n",
       "      <td>1</td>\n",
       "      <td>1</td>\n",
       "      <td>1</td>\n",
       "      <td>1</td>\n",
       "      <td>1</td>\n",
       "    </tr>\n",
       "    <tr>\n",
       "      <th>4</th>\n",
       "      <td>b7b7764cfa1c523e4e93ab2a79a946c4</td>\n",
       "      <td>is home. &lt;3</td>\n",
       "      <td>4.40</td>\n",
       "      <td>3.25</td>\n",
       "      <td>2.65</td>\n",
       "      <td>3.15</td>\n",
       "      <td>3.00</td>\n",
       "      <td>1</td>\n",
       "      <td>1</td>\n",
       "      <td>1</td>\n",
       "      <td>1</td>\n",
       "      <td>1</td>\n",
       "    </tr>\n",
       "    <tr>\n",
       "      <th>5</th>\n",
       "      <td>b7b7764cfa1c523e4e93ab2a79a946c4</td>\n",
       "      <td>www.thejokerblogs.com</td>\n",
       "      <td>4.40</td>\n",
       "      <td>3.25</td>\n",
       "      <td>2.65</td>\n",
       "      <td>3.15</td>\n",
       "      <td>3.00</td>\n",
       "      <td>1</td>\n",
       "      <td>1</td>\n",
       "      <td>1</td>\n",
       "      <td>1</td>\n",
       "      <td>1</td>\n",
       "    </tr>\n",
       "    <tr>\n",
       "      <th>6</th>\n",
       "      <td>b7b7764cfa1c523e4e93ab2a79a946c4</td>\n",
       "      <td>saw a nun zombie, and liked it. Also, *PROPNAM...</td>\n",
       "      <td>4.40</td>\n",
       "      <td>3.25</td>\n",
       "      <td>2.65</td>\n",
       "      <td>3.15</td>\n",
       "      <td>3.00</td>\n",
       "      <td>1</td>\n",
       "      <td>1</td>\n",
       "      <td>1</td>\n",
       "      <td>1</td>\n",
       "      <td>1</td>\n",
       "    </tr>\n",
       "    <tr>\n",
       "      <th>7</th>\n",
       "      <td>b7b7764cfa1c523e4e93ab2a79a946c4</td>\n",
       "      <td>is in Kentucky. 421 miles into her 1100 mile j...</td>\n",
       "      <td>4.40</td>\n",
       "      <td>3.25</td>\n",
       "      <td>2.65</td>\n",
       "      <td>3.15</td>\n",
       "      <td>3.00</td>\n",
       "      <td>1</td>\n",
       "      <td>1</td>\n",
       "      <td>1</td>\n",
       "      <td>1</td>\n",
       "      <td>1</td>\n",
       "    </tr>\n",
       "    <tr>\n",
       "      <th>8</th>\n",
       "      <td>b7b7764cfa1c523e4e93ab2a79a946c4</td>\n",
       "      <td>was about to finish a digital painting before ...</td>\n",
       "      <td>4.40</td>\n",
       "      <td>3.25</td>\n",
       "      <td>2.65</td>\n",
       "      <td>3.15</td>\n",
       "      <td>3.00</td>\n",
       "      <td>1</td>\n",
       "      <td>1</td>\n",
       "      <td>1</td>\n",
       "      <td>1</td>\n",
       "      <td>1</td>\n",
       "    </tr>\n",
       "    <tr>\n",
       "      <th>9</th>\n",
       "      <td>b7b7764cfa1c523e4e93ab2a79a946c4</td>\n",
       "      <td>is celebrating her new haircut by listening to...</td>\n",
       "      <td>4.40</td>\n",
       "      <td>3.25</td>\n",
       "      <td>2.65</td>\n",
       "      <td>3.15</td>\n",
       "      <td>3.00</td>\n",
       "      <td>1</td>\n",
       "      <td>1</td>\n",
       "      <td>1</td>\n",
       "      <td>1</td>\n",
       "      <td>1</td>\n",
       "    </tr>\n",
       "    <tr>\n",
       "      <th>10</th>\n",
       "      <td>b7b7764cfa1c523e4e93ab2a79a946c4</td>\n",
       "      <td>has a crush on the Green Lantern.</td>\n",
       "      <td>4.40</td>\n",
       "      <td>3.25</td>\n",
       "      <td>2.65</td>\n",
       "      <td>3.15</td>\n",
       "      <td>3.00</td>\n",
       "      <td>1</td>\n",
       "      <td>1</td>\n",
       "      <td>1</td>\n",
       "      <td>1</td>\n",
       "      <td>1</td>\n",
       "    </tr>\n",
       "    <tr>\n",
       "      <th>11</th>\n",
       "      <td>b7b7764cfa1c523e4e93ab2a79a946c4</td>\n",
       "      <td>has magic on the brain.</td>\n",
       "      <td>4.40</td>\n",
       "      <td>3.25</td>\n",
       "      <td>2.65</td>\n",
       "      <td>3.15</td>\n",
       "      <td>3.00</td>\n",
       "      <td>1</td>\n",
       "      <td>1</td>\n",
       "      <td>1</td>\n",
       "      <td>1</td>\n",
       "      <td>1</td>\n",
       "    </tr>\n",
       "    <tr>\n",
       "      <th>12</th>\n",
       "      <td>b7b7764cfa1c523e4e93ab2a79a946c4</td>\n",
       "      <td>saw Transformers, Up, and Year One this week. ...</td>\n",
       "      <td>4.40</td>\n",
       "      <td>3.25</td>\n",
       "      <td>2.65</td>\n",
       "      <td>3.15</td>\n",
       "      <td>3.00</td>\n",
       "      <td>1</td>\n",
       "      <td>1</td>\n",
       "      <td>1</td>\n",
       "      <td>1</td>\n",
       "      <td>1</td>\n",
       "    </tr>\n",
       "    <tr>\n",
       "      <th>13</th>\n",
       "      <td>b7b7764cfa1c523e4e93ab2a79a946c4</td>\n",
       "      <td>Who wants to meet up on schedule pick-up day a...</td>\n",
       "      <td>4.40</td>\n",
       "      <td>3.25</td>\n",
       "      <td>2.65</td>\n",
       "      <td>3.15</td>\n",
       "      <td>3.00</td>\n",
       "      <td>1</td>\n",
       "      <td>1</td>\n",
       "      <td>1</td>\n",
       "      <td>1</td>\n",
       "      <td>1</td>\n",
       "    </tr>\n",
       "    <tr>\n",
       "      <th>14</th>\n",
       "      <td>b7b7764cfa1c523e4e93ab2a79a946c4</td>\n",
       "      <td>desires the thrill of inspiration. Also, money.</td>\n",
       "      <td>4.40</td>\n",
       "      <td>3.25</td>\n",
       "      <td>2.65</td>\n",
       "      <td>3.15</td>\n",
       "      <td>3.00</td>\n",
       "      <td>1</td>\n",
       "      <td>1</td>\n",
       "      <td>1</td>\n",
       "      <td>1</td>\n",
       "      <td>1</td>\n",
       "    </tr>\n",
       "    <tr>\n",
       "      <th>15</th>\n",
       "      <td>b7b7764cfa1c523e4e93ab2a79a946c4</td>\n",
       "      <td>is going to bed at 9:30! Yeah!</td>\n",
       "      <td>4.40</td>\n",
       "      <td>3.25</td>\n",
       "      <td>2.65</td>\n",
       "      <td>3.15</td>\n",
       "      <td>3.00</td>\n",
       "      <td>1</td>\n",
       "      <td>1</td>\n",
       "      <td>1</td>\n",
       "      <td>1</td>\n",
       "      <td>1</td>\n",
       "    </tr>\n",
       "    <tr>\n",
       "      <th>16</th>\n",
       "      <td>b7b7764cfa1c523e4e93ab2a79a946c4</td>\n",
       "      <td>is reading, admiring her permit, and occasiona...</td>\n",
       "      <td>4.40</td>\n",
       "      <td>3.25</td>\n",
       "      <td>2.65</td>\n",
       "      <td>3.15</td>\n",
       "      <td>3.00</td>\n",
       "      <td>1</td>\n",
       "      <td>1</td>\n",
       "      <td>1</td>\n",
       "      <td>1</td>\n",
       "      <td>1</td>\n",
       "    </tr>\n",
       "    <tr>\n",
       "      <th>17</th>\n",
       "      <td>b7b7764cfa1c523e4e93ab2a79a946c4</td>\n",
       "      <td>thinks intangibility should be an option in re...</td>\n",
       "      <td>4.40</td>\n",
       "      <td>3.25</td>\n",
       "      <td>2.65</td>\n",
       "      <td>3.15</td>\n",
       "      <td>3.00</td>\n",
       "      <td>1</td>\n",
       "      <td>1</td>\n",
       "      <td>1</td>\n",
       "      <td>1</td>\n",
       "      <td>1</td>\n",
       "    </tr>\n",
       "    <tr>\n",
       "      <th>18</th>\n",
       "      <td>b7b7764cfa1c523e4e93ab2a79a946c4</td>\n",
       "      <td>is tired. *PROPNAME*, let me go to sleep pl0x.</td>\n",
       "      <td>4.40</td>\n",
       "      <td>3.25</td>\n",
       "      <td>2.65</td>\n",
       "      <td>3.15</td>\n",
       "      <td>3.00</td>\n",
       "      <td>1</td>\n",
       "      <td>1</td>\n",
       "      <td>1</td>\n",
       "      <td>1</td>\n",
       "      <td>1</td>\n",
       "    </tr>\n",
       "    <tr>\n",
       "      <th>19</th>\n",
       "      <td>b7b7764cfa1c523e4e93ab2a79a946c4</td>\n",
       "      <td>is discovering the many flavors of insomnia.</td>\n",
       "      <td>4.40</td>\n",
       "      <td>3.25</td>\n",
       "      <td>2.65</td>\n",
       "      <td>3.15</td>\n",
       "      <td>3.00</td>\n",
       "      <td>1</td>\n",
       "      <td>1</td>\n",
       "      <td>1</td>\n",
       "      <td>1</td>\n",
       "      <td>1</td>\n",
       "    </tr>\n",
       "    <tr>\n",
       "      <th>20</th>\n",
       "      <td>b7b7764cfa1c523e4e93ab2a79a946c4</td>\n",
       "      <td>is watching cousin play computer game on telev...</td>\n",
       "      <td>4.40</td>\n",
       "      <td>3.25</td>\n",
       "      <td>2.65</td>\n",
       "      <td>3.15</td>\n",
       "      <td>3.00</td>\n",
       "      <td>1</td>\n",
       "      <td>1</td>\n",
       "      <td>1</td>\n",
       "      <td>1</td>\n",
       "      <td>1</td>\n",
       "    </tr>\n",
       "    <tr>\n",
       "      <th>21</th>\n",
       "      <td>b7b7764cfa1c523e4e93ab2a79a946c4</td>\n",
       "      <td>Why is it I'm only getting the urge to draw wh...</td>\n",
       "      <td>4.40</td>\n",
       "      <td>3.25</td>\n",
       "      <td>2.65</td>\n",
       "      <td>3.15</td>\n",
       "      <td>3.00</td>\n",
       "      <td>1</td>\n",
       "      <td>1</td>\n",
       "      <td>1</td>\n",
       "      <td>1</td>\n",
       "      <td>1</td>\n",
       "    </tr>\n",
       "    <tr>\n",
       "      <th>22</th>\n",
       "      <td>b7b7764cfa1c523e4e93ab2a79a946c4</td>\n",
       "      <td>Who'da thought a single text message could be ...</td>\n",
       "      <td>4.40</td>\n",
       "      <td>3.25</td>\n",
       "      <td>2.65</td>\n",
       "      <td>3.15</td>\n",
       "      <td>3.00</td>\n",
       "      <td>1</td>\n",
       "      <td>1</td>\n",
       "      <td>1</td>\n",
       "      <td>1</td>\n",
       "      <td>1</td>\n",
       "    </tr>\n",
       "    <tr>\n",
       "      <th>23</th>\n",
       "      <td>b7b7764cfa1c523e4e93ab2a79a946c4</td>\n",
       "      <td>wishes to develop a super power that prevents ...</td>\n",
       "      <td>4.40</td>\n",
       "      <td>3.25</td>\n",
       "      <td>2.65</td>\n",
       "      <td>3.15</td>\n",
       "      <td>3.00</td>\n",
       "      <td>1</td>\n",
       "      <td>1</td>\n",
       "      <td>1</td>\n",
       "      <td>1</td>\n",
       "      <td>1</td>\n",
       "    </tr>\n",
       "    <tr>\n",
       "      <th>24</th>\n",
       "      <td>b7b7764cfa1c523e4e93ab2a79a946c4</td>\n",
       "      <td>TELL ME WHAT TO DRAW, PLOX.</td>\n",
       "      <td>4.40</td>\n",
       "      <td>3.25</td>\n",
       "      <td>2.65</td>\n",
       "      <td>3.15</td>\n",
       "      <td>3.00</td>\n",
       "      <td>1</td>\n",
       "      <td>1</td>\n",
       "      <td>1</td>\n",
       "      <td>1</td>\n",
       "      <td>1</td>\n",
       "    </tr>\n",
       "    <tr>\n",
       "      <th>25</th>\n",
       "      <td>b7b7764cfa1c523e4e93ab2a79a946c4</td>\n",
       "      <td>found a bunny, bunny died, buried bunny, now i...</td>\n",
       "      <td>4.40</td>\n",
       "      <td>3.25</td>\n",
       "      <td>2.65</td>\n",
       "      <td>3.15</td>\n",
       "      <td>3.00</td>\n",
       "      <td>1</td>\n",
       "      <td>1</td>\n",
       "      <td>1</td>\n",
       "      <td>1</td>\n",
       "      <td>1</td>\n",
       "    </tr>\n",
       "    <tr>\n",
       "      <th>26</th>\n",
       "      <td>b7b7764cfa1c523e4e93ab2a79a946c4</td>\n",
       "      <td>&lt;3</td>\n",
       "      <td>4.40</td>\n",
       "      <td>3.25</td>\n",
       "      <td>2.65</td>\n",
       "      <td>3.15</td>\n",
       "      <td>3.00</td>\n",
       "      <td>1</td>\n",
       "      <td>1</td>\n",
       "      <td>1</td>\n",
       "      <td>1</td>\n",
       "      <td>1</td>\n",
       "    </tr>\n",
       "    <tr>\n",
       "      <th>27</th>\n",
       "      <td>b7b7764cfa1c523e4e93ab2a79a946c4</td>\n",
       "      <td>is just about insane by now.</td>\n",
       "      <td>4.40</td>\n",
       "      <td>3.25</td>\n",
       "      <td>2.65</td>\n",
       "      <td>3.15</td>\n",
       "      <td>3.00</td>\n",
       "      <td>1</td>\n",
       "      <td>1</td>\n",
       "      <td>1</td>\n",
       "      <td>1</td>\n",
       "      <td>1</td>\n",
       "    </tr>\n",
       "    <tr>\n",
       "      <th>28</th>\n",
       "      <td>b7b7764cfa1c523e4e93ab2a79a946c4</td>\n",
       "      <td>wants to sleep eight hours tonight. And so she...</td>\n",
       "      <td>4.40</td>\n",
       "      <td>3.25</td>\n",
       "      <td>2.65</td>\n",
       "      <td>3.15</td>\n",
       "      <td>3.00</td>\n",
       "      <td>1</td>\n",
       "      <td>1</td>\n",
       "      <td>1</td>\n",
       "      <td>1</td>\n",
       "      <td>1</td>\n",
       "    </tr>\n",
       "    <tr>\n",
       "      <th>29</th>\n",
       "      <td>b7b7764cfa1c523e4e93ab2a79a946c4</td>\n",
       "      <td>really hates hormones and emotions right now. ...</td>\n",
       "      <td>4.40</td>\n",
       "      <td>3.25</td>\n",
       "      <td>2.65</td>\n",
       "      <td>3.15</td>\n",
       "      <td>3.00</td>\n",
       "      <td>1</td>\n",
       "      <td>1</td>\n",
       "      <td>1</td>\n",
       "      <td>1</td>\n",
       "      <td>1</td>\n",
       "    </tr>\n",
       "    <tr>\n",
       "      <th>...</th>\n",
       "      <td>...</td>\n",
       "      <td>...</td>\n",
       "      <td>...</td>\n",
       "      <td>...</td>\n",
       "      <td>...</td>\n",
       "      <td>...</td>\n",
       "      <td>...</td>\n",
       "      <td>...</td>\n",
       "      <td>...</td>\n",
       "      <td>...</td>\n",
       "      <td>...</td>\n",
       "      <td>...</td>\n",
       "    </tr>\n",
       "    <tr>\n",
       "      <th>9887</th>\n",
       "      <td>d2ee2871aa02698e66fdc72b2218cdd8</td>\n",
       "      <td>Seriously, if a guy that you're dating ever sa...</td>\n",
       "      <td>4.65</td>\n",
       "      <td>4.00</td>\n",
       "      <td>2.75</td>\n",
       "      <td>2.50</td>\n",
       "      <td>3.25</td>\n",
       "      <td>1</td>\n",
       "      <td>1</td>\n",
       "      <td>1</td>\n",
       "      <td>1</td>\n",
       "      <td>1</td>\n",
       "    </tr>\n",
       "    <tr>\n",
       "      <th>9888</th>\n",
       "      <td>d2ee2871aa02698e66fdc72b2218cdd8</td>\n",
       "      <td>Still waiting....so glad Monday's a holiday!</td>\n",
       "      <td>4.65</td>\n",
       "      <td>4.00</td>\n",
       "      <td>2.75</td>\n",
       "      <td>2.50</td>\n",
       "      <td>3.25</td>\n",
       "      <td>1</td>\n",
       "      <td>1</td>\n",
       "      <td>1</td>\n",
       "      <td>1</td>\n",
       "      <td>1</td>\n",
       "    </tr>\n",
       "    <tr>\n",
       "      <th>9889</th>\n",
       "      <td>d2ee2871aa02698e66fdc72b2218cdd8</td>\n",
       "      <td>Why did they discontinue naptime after kinderg...</td>\n",
       "      <td>4.65</td>\n",
       "      <td>4.00</td>\n",
       "      <td>2.75</td>\n",
       "      <td>2.50</td>\n",
       "      <td>3.25</td>\n",
       "      <td>1</td>\n",
       "      <td>1</td>\n",
       "      <td>1</td>\n",
       "      <td>1</td>\n",
       "      <td>1</td>\n",
       "    </tr>\n",
       "    <tr>\n",
       "      <th>9890</th>\n",
       "      <td>d2ee2871aa02698e66fdc72b2218cdd8</td>\n",
       "      <td>Yay, finally got my computer set up at my hous...</td>\n",
       "      <td>4.65</td>\n",
       "      <td>4.00</td>\n",
       "      <td>2.75</td>\n",
       "      <td>2.50</td>\n",
       "      <td>3.25</td>\n",
       "      <td>1</td>\n",
       "      <td>1</td>\n",
       "      <td>1</td>\n",
       "      <td>1</td>\n",
       "      <td>1</td>\n",
       "    </tr>\n",
       "    <tr>\n",
       "      <th>9891</th>\n",
       "      <td>d2ee2871aa02698e66fdc72b2218cdd8</td>\n",
       "      <td>UGGGGGGHHHHH! My WoW account is totally screwe...</td>\n",
       "      <td>4.65</td>\n",
       "      <td>4.00</td>\n",
       "      <td>2.75</td>\n",
       "      <td>2.50</td>\n",
       "      <td>3.25</td>\n",
       "      <td>1</td>\n",
       "      <td>1</td>\n",
       "      <td>1</td>\n",
       "      <td>1</td>\n",
       "      <td>1</td>\n",
       "    </tr>\n",
       "    <tr>\n",
       "      <th>9892</th>\n",
       "      <td>d2ee2871aa02698e66fdc72b2218cdd8</td>\n",
       "      <td>Wowsa....greeeeeeeat job news down the grapevi...</td>\n",
       "      <td>4.65</td>\n",
       "      <td>4.00</td>\n",
       "      <td>2.75</td>\n",
       "      <td>2.50</td>\n",
       "      <td>3.25</td>\n",
       "      <td>1</td>\n",
       "      <td>1</td>\n",
       "      <td>1</td>\n",
       "      <td>1</td>\n",
       "      <td>1</td>\n",
       "    </tr>\n",
       "    <tr>\n",
       "      <th>9893</th>\n",
       "      <td>d2ee2871aa02698e66fdc72b2218cdd8</td>\n",
       "      <td>I feel like I'm drowning in paper work, uggh! :X</td>\n",
       "      <td>4.65</td>\n",
       "      <td>4.00</td>\n",
       "      <td>2.75</td>\n",
       "      <td>2.50</td>\n",
       "      <td>3.25</td>\n",
       "      <td>1</td>\n",
       "      <td>1</td>\n",
       "      <td>1</td>\n",
       "      <td>1</td>\n",
       "      <td>1</td>\n",
       "    </tr>\n",
       "    <tr>\n",
       "      <th>9894</th>\n",
       "      <td>d2ee2871aa02698e66fdc72b2218cdd8</td>\n",
       "      <td>Brrrrrrrrrrrrrrrr, cold day! Where are those 4...</td>\n",
       "      <td>4.65</td>\n",
       "      <td>4.00</td>\n",
       "      <td>2.75</td>\n",
       "      <td>2.50</td>\n",
       "      <td>3.25</td>\n",
       "      <td>1</td>\n",
       "      <td>1</td>\n",
       "      <td>1</td>\n",
       "      <td>1</td>\n",
       "      <td>1</td>\n",
       "    </tr>\n",
       "    <tr>\n",
       "      <th>9895</th>\n",
       "      <td>d2ee2871aa02698e66fdc72b2218cdd8</td>\n",
       "      <td>Awesome! First sunny day in ages...but now it'...</td>\n",
       "      <td>4.65</td>\n",
       "      <td>4.00</td>\n",
       "      <td>2.75</td>\n",
       "      <td>2.50</td>\n",
       "      <td>3.25</td>\n",
       "      <td>1</td>\n",
       "      <td>1</td>\n",
       "      <td>1</td>\n",
       "      <td>1</td>\n",
       "      <td>1</td>\n",
       "    </tr>\n",
       "    <tr>\n",
       "      <th>9896</th>\n",
       "      <td>d2ee2871aa02698e66fdc72b2218cdd8</td>\n",
       "      <td>Woot woot! Good week...super productive and bu...</td>\n",
       "      <td>4.65</td>\n",
       "      <td>4.00</td>\n",
       "      <td>2.75</td>\n",
       "      <td>2.50</td>\n",
       "      <td>3.25</td>\n",
       "      <td>1</td>\n",
       "      <td>1</td>\n",
       "      <td>1</td>\n",
       "      <td>1</td>\n",
       "      <td>1</td>\n",
       "    </tr>\n",
       "    <tr>\n",
       "      <th>9897</th>\n",
       "      <td>d2ee2871aa02698e66fdc72b2218cdd8</td>\n",
       "      <td>I hope it snows enough to go sledding...who wa...</td>\n",
       "      <td>4.65</td>\n",
       "      <td>4.00</td>\n",
       "      <td>2.75</td>\n",
       "      <td>2.50</td>\n",
       "      <td>3.25</td>\n",
       "      <td>1</td>\n",
       "      <td>1</td>\n",
       "      <td>1</td>\n",
       "      <td>1</td>\n",
       "      <td>1</td>\n",
       "    </tr>\n",
       "    <tr>\n",
       "      <th>9898</th>\n",
       "      <td>d2ee2871aa02698e66fdc72b2218cdd8</td>\n",
       "      <td>Crap, I think my eyes hate me. Far away stuff ...</td>\n",
       "      <td>4.65</td>\n",
       "      <td>4.00</td>\n",
       "      <td>2.75</td>\n",
       "      <td>2.50</td>\n",
       "      <td>3.25</td>\n",
       "      <td>1</td>\n",
       "      <td>1</td>\n",
       "      <td>1</td>\n",
       "      <td>1</td>\n",
       "      <td>1</td>\n",
       "    </tr>\n",
       "    <tr>\n",
       "      <th>9899</th>\n",
       "      <td>d2ee2871aa02698e66fdc72b2218cdd8</td>\n",
       "      <td>Rain, rain, go away, don't come back 'til I'm ...</td>\n",
       "      <td>4.65</td>\n",
       "      <td>4.00</td>\n",
       "      <td>2.75</td>\n",
       "      <td>2.50</td>\n",
       "      <td>3.25</td>\n",
       "      <td>1</td>\n",
       "      <td>1</td>\n",
       "      <td>1</td>\n",
       "      <td>1</td>\n",
       "      <td>1</td>\n",
       "    </tr>\n",
       "    <tr>\n",
       "      <th>9900</th>\n",
       "      <td>d2ee2871aa02698e66fdc72b2218cdd8</td>\n",
       "      <td>It's not that I can't live without you; it's t...</td>\n",
       "      <td>4.65</td>\n",
       "      <td>4.00</td>\n",
       "      <td>2.75</td>\n",
       "      <td>2.50</td>\n",
       "      <td>3.25</td>\n",
       "      <td>1</td>\n",
       "      <td>1</td>\n",
       "      <td>1</td>\n",
       "      <td>1</td>\n",
       "      <td>1</td>\n",
       "    </tr>\n",
       "    <tr>\n",
       "      <th>9901</th>\n",
       "      <td>d2ee2871aa02698e66fdc72b2218cdd8</td>\n",
       "      <td>It's a beautiful day in a neighborhood, a beau...</td>\n",
       "      <td>4.65</td>\n",
       "      <td>4.00</td>\n",
       "      <td>2.75</td>\n",
       "      <td>2.50</td>\n",
       "      <td>3.25</td>\n",
       "      <td>1</td>\n",
       "      <td>1</td>\n",
       "      <td>1</td>\n",
       "      <td>1</td>\n",
       "      <td>1</td>\n",
       "    </tr>\n",
       "    <tr>\n",
       "      <th>9902</th>\n",
       "      <td>ea890531d3e0547166efde52d843099e</td>\n",
       "      <td>Just wanted to thank everyone for all the supp...</td>\n",
       "      <td>5.00</td>\n",
       "      <td>3.50</td>\n",
       "      <td>4.75</td>\n",
       "      <td>3.75</td>\n",
       "      <td>4.25</td>\n",
       "      <td>1</td>\n",
       "      <td>1</td>\n",
       "      <td>1</td>\n",
       "      <td>1</td>\n",
       "      <td>1</td>\n",
       "    </tr>\n",
       "    <tr>\n",
       "      <th>9903</th>\n",
       "      <td>ea890531d3e0547166efde52d843099e</td>\n",
       "      <td>using facebook as procrastination for practicu...</td>\n",
       "      <td>5.00</td>\n",
       "      <td>3.50</td>\n",
       "      <td>4.75</td>\n",
       "      <td>3.75</td>\n",
       "      <td>4.25</td>\n",
       "      <td>1</td>\n",
       "      <td>1</td>\n",
       "      <td>1</td>\n",
       "      <td>1</td>\n",
       "      <td>1</td>\n",
       "    </tr>\n",
       "    <tr>\n",
       "      <th>9904</th>\n",
       "      <td>ea890531d3e0547166efde52d843099e</td>\n",
       "      <td>First day quitting smoking...wish me luck!!!</td>\n",
       "      <td>5.00</td>\n",
       "      <td>3.50</td>\n",
       "      <td>4.75</td>\n",
       "      <td>3.75</td>\n",
       "      <td>4.25</td>\n",
       "      <td>1</td>\n",
       "      <td>1</td>\n",
       "      <td>1</td>\n",
       "      <td>1</td>\n",
       "      <td>1</td>\n",
       "    </tr>\n",
       "    <tr>\n",
       "      <th>9905</th>\n",
       "      <td>ea890531d3e0547166efde52d843099e</td>\n",
       "      <td>you know when you work your @$$ off for a real...</td>\n",
       "      <td>5.00</td>\n",
       "      <td>3.50</td>\n",
       "      <td>4.75</td>\n",
       "      <td>3.75</td>\n",
       "      <td>4.25</td>\n",
       "      <td>1</td>\n",
       "      <td>1</td>\n",
       "      <td>1</td>\n",
       "      <td>1</td>\n",
       "      <td>1</td>\n",
       "    </tr>\n",
       "    <tr>\n",
       "      <th>9906</th>\n",
       "      <td>fbe5aa478508d1dc931427ade5d9e1b4</td>\n",
       "      <td>Totalled my car last night. Luckilly no one wa...</td>\n",
       "      <td>4.00</td>\n",
       "      <td>4.00</td>\n",
       "      <td>3.25</td>\n",
       "      <td>2.25</td>\n",
       "      <td>2.75</td>\n",
       "      <td>1</td>\n",
       "      <td>1</td>\n",
       "      <td>1</td>\n",
       "      <td>0</td>\n",
       "      <td>1</td>\n",
       "    </tr>\n",
       "    <tr>\n",
       "      <th>9907</th>\n",
       "      <td>fbe5aa478508d1dc931427ade5d9e1b4</td>\n",
       "      <td>Oh well.  Only two things to do when your team...</td>\n",
       "      <td>4.00</td>\n",
       "      <td>4.00</td>\n",
       "      <td>3.25</td>\n",
       "      <td>2.25</td>\n",
       "      <td>2.75</td>\n",
       "      <td>1</td>\n",
       "      <td>1</td>\n",
       "      <td>1</td>\n",
       "      <td>0</td>\n",
       "      <td>1</td>\n",
       "    </tr>\n",
       "    <tr>\n",
       "      <th>9908</th>\n",
       "      <td>fbe5aa478508d1dc931427ade5d9e1b4</td>\n",
       "      <td>And the cabin fever begins.</td>\n",
       "      <td>4.00</td>\n",
       "      <td>4.00</td>\n",
       "      <td>3.25</td>\n",
       "      <td>2.25</td>\n",
       "      <td>2.75</td>\n",
       "      <td>1</td>\n",
       "      <td>1</td>\n",
       "      <td>1</td>\n",
       "      <td>0</td>\n",
       "      <td>1</td>\n",
       "    </tr>\n",
       "    <tr>\n",
       "      <th>9909</th>\n",
       "      <td>35efb99775d5ee7e83cf7912591984d5</td>\n",
       "      <td>Facebook me marea. Me hates it long time T-T</td>\n",
       "      <td>4.10</td>\n",
       "      <td>2.35</td>\n",
       "      <td>2.45</td>\n",
       "      <td>2.85</td>\n",
       "      <td>4.00</td>\n",
       "      <td>1</td>\n",
       "      <td>0</td>\n",
       "      <td>0</td>\n",
       "      <td>1</td>\n",
       "      <td>1</td>\n",
       "    </tr>\n",
       "    <tr>\n",
       "      <th>9910</th>\n",
       "      <td>a764ca41dca158d7a191505dcc8ce47f</td>\n",
       "      <td>Red</td>\n",
       "      <td>3.60</td>\n",
       "      <td>4.10</td>\n",
       "      <td>3.70</td>\n",
       "      <td>4.20</td>\n",
       "      <td>2.50</td>\n",
       "      <td>1</td>\n",
       "      <td>1</td>\n",
       "      <td>1</td>\n",
       "      <td>1</td>\n",
       "      <td>1</td>\n",
       "    </tr>\n",
       "    <tr>\n",
       "      <th>9911</th>\n",
       "      <td>deb899e426c1a5c66c24eeb0d7df6257</td>\n",
       "      <td>About mornings and winter,and magic.</td>\n",
       "      <td>4.60</td>\n",
       "      <td>2.90</td>\n",
       "      <td>2.15</td>\n",
       "      <td>4.10</td>\n",
       "      <td>2.15</td>\n",
       "      <td>1</td>\n",
       "      <td>1</td>\n",
       "      <td>0</td>\n",
       "      <td>1</td>\n",
       "      <td>0</td>\n",
       "    </tr>\n",
       "    <tr>\n",
       "      <th>9912</th>\n",
       "      <td>deb899e426c1a5c66c24eeb0d7df6257</td>\n",
       "      <td>little things give you away.</td>\n",
       "      <td>4.60</td>\n",
       "      <td>2.90</td>\n",
       "      <td>2.15</td>\n",
       "      <td>4.10</td>\n",
       "      <td>2.15</td>\n",
       "      <td>1</td>\n",
       "      <td>1</td>\n",
       "      <td>0</td>\n",
       "      <td>1</td>\n",
       "      <td>0</td>\n",
       "    </tr>\n",
       "    <tr>\n",
       "      <th>9913</th>\n",
       "      <td>ea28a927cb6663480ea33ca917c3c8ba</td>\n",
       "      <td>is wishing it was Saturday.</td>\n",
       "      <td>4.50</td>\n",
       "      <td>3.95</td>\n",
       "      <td>4.05</td>\n",
       "      <td>3.80</td>\n",
       "      <td>3.35</td>\n",
       "      <td>1</td>\n",
       "      <td>1</td>\n",
       "      <td>1</td>\n",
       "      <td>1</td>\n",
       "      <td>1</td>\n",
       "    </tr>\n",
       "    <tr>\n",
       "      <th>9914</th>\n",
       "      <td>ea28a927cb6663480ea33ca917c3c8ba</td>\n",
       "      <td>is studying hard for the G.R.E.</td>\n",
       "      <td>4.50</td>\n",
       "      <td>3.95</td>\n",
       "      <td>4.05</td>\n",
       "      <td>3.80</td>\n",
       "      <td>3.35</td>\n",
       "      <td>1</td>\n",
       "      <td>1</td>\n",
       "      <td>1</td>\n",
       "      <td>1</td>\n",
       "      <td>1</td>\n",
       "    </tr>\n",
       "    <tr>\n",
       "      <th>9915</th>\n",
       "      <td>5532642937eb3497a43e15dbb23a9d2d</td>\n",
       "      <td>snipers get more head</td>\n",
       "      <td>3.95</td>\n",
       "      <td>3.40</td>\n",
       "      <td>1.40</td>\n",
       "      <td>3.30</td>\n",
       "      <td>4.05</td>\n",
       "      <td>1</td>\n",
       "      <td>1</td>\n",
       "      <td>0</td>\n",
       "      <td>1</td>\n",
       "      <td>1</td>\n",
       "    </tr>\n",
       "    <tr>\n",
       "      <th>9916</th>\n",
       "      <td>a286b7286b1247d4a7851709e9f31e1e</td>\n",
       "      <td>Last night was amazing! Not only did I see *PR...</td>\n",
       "      <td>4.00</td>\n",
       "      <td>3.50</td>\n",
       "      <td>4.25</td>\n",
       "      <td>3.25</td>\n",
       "      <td>3.00</td>\n",
       "      <td>1</td>\n",
       "      <td>1</td>\n",
       "      <td>1</td>\n",
       "      <td>1</td>\n",
       "      <td>1</td>\n",
       "    </tr>\n",
       "  </tbody>\n",
       "</table>\n",
       "<p>9917 rows × 12 columns</p>\n",
       "</div>"
      ],
      "text/plain": [
       "                               #AUTHID  \\\n",
       "0     b7b7764cfa1c523e4e93ab2a79a946c4   \n",
       "1     b7b7764cfa1c523e4e93ab2a79a946c4   \n",
       "2     b7b7764cfa1c523e4e93ab2a79a946c4   \n",
       "3     b7b7764cfa1c523e4e93ab2a79a946c4   \n",
       "4     b7b7764cfa1c523e4e93ab2a79a946c4   \n",
       "...                                ...   \n",
       "9912  deb899e426c1a5c66c24eeb0d7df6257   \n",
       "9913  ea28a927cb6663480ea33ca917c3c8ba   \n",
       "9914  ea28a927cb6663480ea33ca917c3c8ba   \n",
       "9915  5532642937eb3497a43e15dbb23a9d2d   \n",
       "9916  a286b7286b1247d4a7851709e9f31e1e   \n",
       "\n",
       "                                                 STATUS  sOPN  sCON  sEXT  \\\n",
       "0                           likes the sound of thunder.  4.40  3.25  2.65   \n",
       "1     is so sleepy it's not even funny that's she ca...  4.40  3.25  2.65   \n",
       "2     is sore and wants the knot of muscles at the b...  4.40  3.25  2.65   \n",
       "3            likes how the day sounds in this new song.  4.40  3.25  2.65   \n",
       "4                                           is home. <3  4.40  3.25  2.65   \n",
       "...                                                 ...   ...   ...   ...   \n",
       "9912                       little things give you away.  4.60  2.90  2.15   \n",
       "9913                        is wishing it was Saturday.  4.50  3.95  4.05   \n",
       "9914                    is studying hard for the G.R.E.  4.50  3.95  4.05   \n",
       "9915                              snipers get more head  3.95  3.40  1.40   \n",
       "9916  Last night was amazing! Not only did I see *PR...  4.00  3.50  4.25   \n",
       "\n",
       "      sAGR  sNEU  cOPN  cCON  cEXT  cAGR  cNEU  \n",
       "0     3.15  3.00     1     1     1     1     1  \n",
       "1     3.15  3.00     1     1     1     1     1  \n",
       "2     3.15  3.00     1     1     1     1     1  \n",
       "3     3.15  3.00     1     1     1     1     1  \n",
       "4     3.15  3.00     1     1     1     1     1  \n",
       "...    ...   ...   ...   ...   ...   ...   ...  \n",
       "9912  4.10  2.15     1     1     0     1     0  \n",
       "9913  3.80  3.35     1     1     1     1     1  \n",
       "9914  3.80  3.35     1     1     1     1     1  \n",
       "9915  3.30  4.05     1     1     0     1     1  \n",
       "9916  3.25  3.00     1     1     1     1     1  \n",
       "\n",
       "[9917 rows x 12 columns]"
      ]
     },
     "execution_count": 11,
     "metadata": {},
     "output_type": "execute_result"
    }
   ],
   "source": [
    "usergroup"
   ]
  },
  {
   "cell_type": "code",
   "execution_count": 12,
   "metadata": {},
   "outputs": [
    {
     "data": {
      "text/html": [
       "<div>\n",
       "<style scoped>\n",
       "    .dataframe tbody tr th:only-of-type {\n",
       "        vertical-align: middle;\n",
       "    }\n",
       "\n",
       "    .dataframe tbody tr th {\n",
       "        vertical-align: top;\n",
       "    }\n",
       "\n",
       "    .dataframe thead th {\n",
       "        text-align: right;\n",
       "    }\n",
       "</style>\n",
       "<table border=\"1\" class=\"dataframe\">\n",
       "  <thead>\n",
       "    <tr style=\"text-align: right;\">\n",
       "      <th></th>\n",
       "      <th>STATUS</th>\n",
       "      <th>cAGR</th>\n",
       "    </tr>\n",
       "  </thead>\n",
       "  <tbody>\n",
       "    <tr>\n",
       "      <th>0</th>\n",
       "      <td>likes the sound of thunder.</td>\n",
       "      <td>1</td>\n",
       "    </tr>\n",
       "    <tr>\n",
       "      <th>1</th>\n",
       "      <td>is so sleepy it's not even funny that's she ca...</td>\n",
       "      <td>1</td>\n",
       "    </tr>\n",
       "    <tr>\n",
       "      <th>2</th>\n",
       "      <td>is sore and wants the knot of muscles at the b...</td>\n",
       "      <td>1</td>\n",
       "    </tr>\n",
       "    <tr>\n",
       "      <th>3</th>\n",
       "      <td>likes how the day sounds in this new song.</td>\n",
       "      <td>1</td>\n",
       "    </tr>\n",
       "    <tr>\n",
       "      <th>4</th>\n",
       "      <td>is home. &lt;3</td>\n",
       "      <td>1</td>\n",
       "    </tr>\n",
       "    <tr>\n",
       "      <th>5</th>\n",
       "      <td>www.thejokerblogs.com</td>\n",
       "      <td>1</td>\n",
       "    </tr>\n",
       "    <tr>\n",
       "      <th>6</th>\n",
       "      <td>saw a nun zombie, and liked it. Also, *PROPNAM...</td>\n",
       "      <td>1</td>\n",
       "    </tr>\n",
       "    <tr>\n",
       "      <th>7</th>\n",
       "      <td>is in Kentucky. 421 miles into her 1100 mile j...</td>\n",
       "      <td>1</td>\n",
       "    </tr>\n",
       "    <tr>\n",
       "      <th>8</th>\n",
       "      <td>was about to finish a digital painting before ...</td>\n",
       "      <td>1</td>\n",
       "    </tr>\n",
       "    <tr>\n",
       "      <th>9</th>\n",
       "      <td>is celebrating her new haircut by listening to...</td>\n",
       "      <td>1</td>\n",
       "    </tr>\n",
       "    <tr>\n",
       "      <th>10</th>\n",
       "      <td>has a crush on the Green Lantern.</td>\n",
       "      <td>1</td>\n",
       "    </tr>\n",
       "    <tr>\n",
       "      <th>11</th>\n",
       "      <td>has magic on the brain.</td>\n",
       "      <td>1</td>\n",
       "    </tr>\n",
       "    <tr>\n",
       "      <th>12</th>\n",
       "      <td>saw Transformers, Up, and Year One this week. ...</td>\n",
       "      <td>1</td>\n",
       "    </tr>\n",
       "    <tr>\n",
       "      <th>13</th>\n",
       "      <td>Who wants to meet up on schedule pick-up day a...</td>\n",
       "      <td>1</td>\n",
       "    </tr>\n",
       "    <tr>\n",
       "      <th>14</th>\n",
       "      <td>desires the thrill of inspiration. Also, money.</td>\n",
       "      <td>1</td>\n",
       "    </tr>\n",
       "    <tr>\n",
       "      <th>15</th>\n",
       "      <td>is going to bed at 9:30! Yeah!</td>\n",
       "      <td>1</td>\n",
       "    </tr>\n",
       "    <tr>\n",
       "      <th>16</th>\n",
       "      <td>is reading, admiring her permit, and occasiona...</td>\n",
       "      <td>1</td>\n",
       "    </tr>\n",
       "    <tr>\n",
       "      <th>17</th>\n",
       "      <td>thinks intangibility should be an option in re...</td>\n",
       "      <td>1</td>\n",
       "    </tr>\n",
       "    <tr>\n",
       "      <th>18</th>\n",
       "      <td>is tired. *PROPNAME*, let me go to sleep pl0x.</td>\n",
       "      <td>1</td>\n",
       "    </tr>\n",
       "    <tr>\n",
       "      <th>19</th>\n",
       "      <td>is discovering the many flavors of insomnia.</td>\n",
       "      <td>1</td>\n",
       "    </tr>\n",
       "    <tr>\n",
       "      <th>20</th>\n",
       "      <td>is watching cousin play computer game on telev...</td>\n",
       "      <td>1</td>\n",
       "    </tr>\n",
       "    <tr>\n",
       "      <th>21</th>\n",
       "      <td>Why is it I'm only getting the urge to draw wh...</td>\n",
       "      <td>1</td>\n",
       "    </tr>\n",
       "    <tr>\n",
       "      <th>22</th>\n",
       "      <td>Who'da thought a single text message could be ...</td>\n",
       "      <td>1</td>\n",
       "    </tr>\n",
       "    <tr>\n",
       "      <th>23</th>\n",
       "      <td>wishes to develop a super power that prevents ...</td>\n",
       "      <td>1</td>\n",
       "    </tr>\n",
       "    <tr>\n",
       "      <th>24</th>\n",
       "      <td>TELL ME WHAT TO DRAW, PLOX.</td>\n",
       "      <td>1</td>\n",
       "    </tr>\n",
       "    <tr>\n",
       "      <th>25</th>\n",
       "      <td>found a bunny, bunny died, buried bunny, now i...</td>\n",
       "      <td>1</td>\n",
       "    </tr>\n",
       "    <tr>\n",
       "      <th>26</th>\n",
       "      <td>&lt;3</td>\n",
       "      <td>1</td>\n",
       "    </tr>\n",
       "    <tr>\n",
       "      <th>27</th>\n",
       "      <td>is just about insane by now.</td>\n",
       "      <td>1</td>\n",
       "    </tr>\n",
       "    <tr>\n",
       "      <th>28</th>\n",
       "      <td>wants to sleep eight hours tonight. And so she...</td>\n",
       "      <td>1</td>\n",
       "    </tr>\n",
       "    <tr>\n",
       "      <th>29</th>\n",
       "      <td>really hates hormones and emotions right now. ...</td>\n",
       "      <td>1</td>\n",
       "    </tr>\n",
       "    <tr>\n",
       "      <th>...</th>\n",
       "      <td>...</td>\n",
       "      <td>...</td>\n",
       "    </tr>\n",
       "    <tr>\n",
       "      <th>9887</th>\n",
       "      <td>Seriously, if a guy that you're dating ever sa...</td>\n",
       "      <td>1</td>\n",
       "    </tr>\n",
       "    <tr>\n",
       "      <th>9888</th>\n",
       "      <td>Still waiting....so glad Monday's a holiday!</td>\n",
       "      <td>1</td>\n",
       "    </tr>\n",
       "    <tr>\n",
       "      <th>9889</th>\n",
       "      <td>Why did they discontinue naptime after kinderg...</td>\n",
       "      <td>1</td>\n",
       "    </tr>\n",
       "    <tr>\n",
       "      <th>9890</th>\n",
       "      <td>Yay, finally got my computer set up at my hous...</td>\n",
       "      <td>1</td>\n",
       "    </tr>\n",
       "    <tr>\n",
       "      <th>9891</th>\n",
       "      <td>UGGGGGGHHHHH! My WoW account is totally screwe...</td>\n",
       "      <td>1</td>\n",
       "    </tr>\n",
       "    <tr>\n",
       "      <th>9892</th>\n",
       "      <td>Wowsa....greeeeeeeat job news down the grapevi...</td>\n",
       "      <td>1</td>\n",
       "    </tr>\n",
       "    <tr>\n",
       "      <th>9893</th>\n",
       "      <td>I feel like I'm drowning in paper work, uggh! :X</td>\n",
       "      <td>1</td>\n",
       "    </tr>\n",
       "    <tr>\n",
       "      <th>9894</th>\n",
       "      <td>Brrrrrrrrrrrrrrrr, cold day! Where are those 4...</td>\n",
       "      <td>1</td>\n",
       "    </tr>\n",
       "    <tr>\n",
       "      <th>9895</th>\n",
       "      <td>Awesome! First sunny day in ages...but now it'...</td>\n",
       "      <td>1</td>\n",
       "    </tr>\n",
       "    <tr>\n",
       "      <th>9896</th>\n",
       "      <td>Woot woot! Good week...super productive and bu...</td>\n",
       "      <td>1</td>\n",
       "    </tr>\n",
       "    <tr>\n",
       "      <th>9897</th>\n",
       "      <td>I hope it snows enough to go sledding...who wa...</td>\n",
       "      <td>1</td>\n",
       "    </tr>\n",
       "    <tr>\n",
       "      <th>9898</th>\n",
       "      <td>Crap, I think my eyes hate me. Far away stuff ...</td>\n",
       "      <td>1</td>\n",
       "    </tr>\n",
       "    <tr>\n",
       "      <th>9899</th>\n",
       "      <td>Rain, rain, go away, don't come back 'til I'm ...</td>\n",
       "      <td>1</td>\n",
       "    </tr>\n",
       "    <tr>\n",
       "      <th>9900</th>\n",
       "      <td>It's not that I can't live without you; it's t...</td>\n",
       "      <td>1</td>\n",
       "    </tr>\n",
       "    <tr>\n",
       "      <th>9901</th>\n",
       "      <td>It's a beautiful day in a neighborhood, a beau...</td>\n",
       "      <td>1</td>\n",
       "    </tr>\n",
       "    <tr>\n",
       "      <th>9902</th>\n",
       "      <td>Just wanted to thank everyone for all the supp...</td>\n",
       "      <td>1</td>\n",
       "    </tr>\n",
       "    <tr>\n",
       "      <th>9903</th>\n",
       "      <td>using facebook as procrastination for practicu...</td>\n",
       "      <td>1</td>\n",
       "    </tr>\n",
       "    <tr>\n",
       "      <th>9904</th>\n",
       "      <td>First day quitting smoking...wish me luck!!!</td>\n",
       "      <td>1</td>\n",
       "    </tr>\n",
       "    <tr>\n",
       "      <th>9905</th>\n",
       "      <td>you know when you work your @$$ off for a real...</td>\n",
       "      <td>1</td>\n",
       "    </tr>\n",
       "    <tr>\n",
       "      <th>9906</th>\n",
       "      <td>Totalled my car last night. Luckilly no one wa...</td>\n",
       "      <td>0</td>\n",
       "    </tr>\n",
       "    <tr>\n",
       "      <th>9907</th>\n",
       "      <td>Oh well.  Only two things to do when your team...</td>\n",
       "      <td>0</td>\n",
       "    </tr>\n",
       "    <tr>\n",
       "      <th>9908</th>\n",
       "      <td>And the cabin fever begins.</td>\n",
       "      <td>0</td>\n",
       "    </tr>\n",
       "    <tr>\n",
       "      <th>9909</th>\n",
       "      <td>Facebook me marea. Me hates it long time T-T</td>\n",
       "      <td>1</td>\n",
       "    </tr>\n",
       "    <tr>\n",
       "      <th>9910</th>\n",
       "      <td>Red</td>\n",
       "      <td>1</td>\n",
       "    </tr>\n",
       "    <tr>\n",
       "      <th>9911</th>\n",
       "      <td>About mornings and winter,and magic.</td>\n",
       "      <td>1</td>\n",
       "    </tr>\n",
       "    <tr>\n",
       "      <th>9912</th>\n",
       "      <td>little things give you away.</td>\n",
       "      <td>1</td>\n",
       "    </tr>\n",
       "    <tr>\n",
       "      <th>9913</th>\n",
       "      <td>is wishing it was Saturday.</td>\n",
       "      <td>1</td>\n",
       "    </tr>\n",
       "    <tr>\n",
       "      <th>9914</th>\n",
       "      <td>is studying hard for the G.R.E.</td>\n",
       "      <td>1</td>\n",
       "    </tr>\n",
       "    <tr>\n",
       "      <th>9915</th>\n",
       "      <td>snipers get more head</td>\n",
       "      <td>1</td>\n",
       "    </tr>\n",
       "    <tr>\n",
       "      <th>9916</th>\n",
       "      <td>Last night was amazing! Not only did I see *PR...</td>\n",
       "      <td>1</td>\n",
       "    </tr>\n",
       "  </tbody>\n",
       "</table>\n",
       "<p>9917 rows × 2 columns</p>\n",
       "</div>"
      ],
      "text/plain": [
       "                                                 STATUS  cAGR\n",
       "0                           likes the sound of thunder.     1\n",
       "1     is so sleepy it's not even funny that's she ca...     1\n",
       "2     is sore and wants the knot of muscles at the b...     1\n",
       "3            likes how the day sounds in this new song.     1\n",
       "4                                           is home. <3     1\n",
       "...                                                 ...   ...\n",
       "9912                       little things give you away.     1\n",
       "9913                        is wishing it was Saturday.     1\n",
       "9914                    is studying hard for the G.R.E.     1\n",
       "9915                              snipers get more head     1\n",
       "9916  Last night was amazing! Not only did I see *PR...     1\n",
       "\n",
       "[9917 rows x 2 columns]"
      ]
     },
     "execution_count": 12,
     "metadata": {},
     "output_type": "execute_result"
    }
   ],
   "source": [
    "df_classification_cAGR= usergroup[['STATUS','cAGR']]\n",
    "df_classification_cAGR"
   ]
  },
  {
   "cell_type": "markdown",
   "metadata": {},
   "source": [
    "# ------------------------------------------------------------------------------------------------------------\n",
    "# Part 2: Class Imbalacement Treatment\n",
    "### Solution #1: Up-sample Minority Class"
   ]
  },
  {
   "cell_type": "code",
   "execution_count": 16,
   "metadata": {},
   "outputs": [
    {
     "data": {
      "text/plain": [
       "1    9339\n",
       "0     578\n",
       "Name: cAGR, dtype: int64"
      ]
     },
     "execution_count": 16,
     "metadata": {},
     "output_type": "execute_result"
    }
   ],
   "source": [
    "df_classification_cAGR['cAGR'].value_counts()"
   ]
  },
  {
   "cell_type": "code",
   "execution_count": 17,
   "metadata": {},
   "outputs": [],
   "source": [
    "from sklearn.utils import resample"
   ]
  },
  {
   "cell_type": "code",
   "execution_count": 18,
   "metadata": {},
   "outputs": [],
   "source": [
    "# Separate majority and minority classes\n",
    "# In our case, the majority in the NEUROTICISM trait is 0 --> 523 and 1 --> 282 \n",
    "df_majority = df_classification_cAGR[df_classification_cAGR.cAGR==1]\n",
    "df_minority = df_classification_cAGR[df_classification_cAGR.cAGR==0]"
   ]
  },
  {
   "cell_type": "code",
   "execution_count": 19,
   "metadata": {},
   "outputs": [
    {
     "data": {
      "text/html": [
       "<div>\n",
       "<style scoped>\n",
       "    .dataframe tbody tr th:only-of-type {\n",
       "        vertical-align: middle;\n",
       "    }\n",
       "\n",
       "    .dataframe tbody tr th {\n",
       "        vertical-align: top;\n",
       "    }\n",
       "\n",
       "    .dataframe thead th {\n",
       "        text-align: right;\n",
       "    }\n",
       "</style>\n",
       "<table border=\"1\" class=\"dataframe\">\n",
       "  <thead>\n",
       "    <tr style=\"text-align: right;\">\n",
       "      <th></th>\n",
       "      <th>STATUS</th>\n",
       "      <th>cAGR</th>\n",
       "    </tr>\n",
       "  </thead>\n",
       "  <tbody>\n",
       "    <tr>\n",
       "      <th>0</th>\n",
       "      <td>likes the sound of thunder.</td>\n",
       "      <td>1</td>\n",
       "    </tr>\n",
       "    <tr>\n",
       "      <th>1</th>\n",
       "      <td>is so sleepy it's not even funny that's she ca...</td>\n",
       "      <td>1</td>\n",
       "    </tr>\n",
       "    <tr>\n",
       "      <th>2</th>\n",
       "      <td>is sore and wants the knot of muscles at the b...</td>\n",
       "      <td>1</td>\n",
       "    </tr>\n",
       "    <tr>\n",
       "      <th>3</th>\n",
       "      <td>likes how the day sounds in this new song.</td>\n",
       "      <td>1</td>\n",
       "    </tr>\n",
       "    <tr>\n",
       "      <th>4</th>\n",
       "      <td>is home. &lt;3</td>\n",
       "      <td>1</td>\n",
       "    </tr>\n",
       "  </tbody>\n",
       "</table>\n",
       "</div>"
      ],
      "text/plain": [
       "                                              STATUS  cAGR\n",
       "0                        likes the sound of thunder.     1\n",
       "1  is so sleepy it's not even funny that's she ca...     1\n",
       "2  is sore and wants the knot of muscles at the b...     1\n",
       "3         likes how the day sounds in this new song.     1\n",
       "4                                        is home. <3     1"
      ]
     },
     "execution_count": 19,
     "metadata": {},
     "output_type": "execute_result"
    }
   ],
   "source": [
    "df_majority.head()"
   ]
  },
  {
   "cell_type": "code",
   "execution_count": 20,
   "metadata": {},
   "outputs": [
    {
     "data": {
      "text/html": [
       "<div>\n",
       "<style scoped>\n",
       "    .dataframe tbody tr th:only-of-type {\n",
       "        vertical-align: middle;\n",
       "    }\n",
       "\n",
       "    .dataframe tbody tr th {\n",
       "        vertical-align: top;\n",
       "    }\n",
       "\n",
       "    .dataframe thead th {\n",
       "        text-align: right;\n",
       "    }\n",
       "</style>\n",
       "<table border=\"1\" class=\"dataframe\">\n",
       "  <thead>\n",
       "    <tr style=\"text-align: right;\">\n",
       "      <th></th>\n",
       "      <th>STATUS</th>\n",
       "      <th>cAGR</th>\n",
       "    </tr>\n",
       "  </thead>\n",
       "  <tbody>\n",
       "    <tr>\n",
       "      <th>769</th>\n",
       "      <td>is leaving tomorrow. wtf.</td>\n",
       "      <td>0</td>\n",
       "    </tr>\n",
       "    <tr>\n",
       "      <th>770</th>\n",
       "      <td>is wandering about in the Alaskan wilderness l...</td>\n",
       "      <td>0</td>\n",
       "    </tr>\n",
       "    <tr>\n",
       "      <th>771</th>\n",
       "      <td>is in Homer, AK visiting *PROPNAME*!</td>\n",
       "      <td>0</td>\n",
       "    </tr>\n",
       "    <tr>\n",
       "      <th>772</th>\n",
       "      <td>just went to a bar with my mom and a bunch of ...</td>\n",
       "      <td>0</td>\n",
       "    </tr>\n",
       "    <tr>\n",
       "      <th>773</th>\n",
       "      <td>har mindre enn en måned til Oslo!</td>\n",
       "      <td>0</td>\n",
       "    </tr>\n",
       "  </tbody>\n",
       "</table>\n",
       "</div>"
      ],
      "text/plain": [
       "                                                STATUS  cAGR\n",
       "769                          is leaving tomorrow. wtf.     0\n",
       "770  is wandering about in the Alaskan wilderness l...     0\n",
       "771               is in Homer, AK visiting *PROPNAME*!     0\n",
       "772  just went to a bar with my mom and a bunch of ...     0\n",
       "773                  har mindre enn en måned til Oslo!     0"
      ]
     },
     "execution_count": 20,
     "metadata": {},
     "output_type": "execute_result"
    }
   ],
   "source": [
    "df_minority.head()"
   ]
  },
  {
   "cell_type": "code",
   "execution_count": 21,
   "metadata": {},
   "outputs": [
    {
     "data": {
      "text/plain": [
       "9339"
      ]
     },
     "execution_count": 21,
     "metadata": {},
     "output_type": "execute_result"
    }
   ],
   "source": [
    "len(df_majority)"
   ]
  },
  {
   "cell_type": "code",
   "execution_count": 22,
   "metadata": {},
   "outputs": [
    {
     "data": {
      "text/plain": [
       "578"
      ]
     },
     "execution_count": 22,
     "metadata": {},
     "output_type": "execute_result"
    }
   ],
   "source": [
    "len(df_minority)"
   ]
  },
  {
   "cell_type": "code",
   "execution_count": 24,
   "metadata": {},
   "outputs": [],
   "source": [
    " # Upsample minority class\n",
    "df_minority_upsampled = resample(df_minority, \n",
    "                                 replace=True,     # sample with replacement\n",
    "                                 n_samples=9339,    # to match majority class\n",
    "                                 random_state=123) # reproducible results"
   ]
  },
  {
   "cell_type": "code",
   "execution_count": 25,
   "metadata": {},
   "outputs": [
    {
     "data": {
      "text/plain": [
       "9339"
      ]
     },
     "execution_count": 25,
     "metadata": {},
     "output_type": "execute_result"
    }
   ],
   "source": [
    "len(df_minority_upsampled)"
   ]
  },
  {
   "cell_type": "code",
   "execution_count": 26,
   "metadata": {},
   "outputs": [],
   "source": [
    "# Combine majority class with upsampled minority class\n",
    "df_upsampled = pd.concat([df_majority, df_minority_upsampled])"
   ]
  },
  {
   "cell_type": "code",
   "execution_count": 27,
   "metadata": {},
   "outputs": [
    {
     "data": {
      "text/plain": [
       "1    9339\n",
       "0    9339\n",
       "Name: cAGR, dtype: int64"
      ]
     },
     "execution_count": 27,
     "metadata": {},
     "output_type": "execute_result"
    }
   ],
   "source": [
    " # Display new class counts\n",
    "df_upsampled.cAGR.value_counts()"
   ]
  },
  {
   "cell_type": "code",
   "execution_count": 28,
   "metadata": {},
   "outputs": [
    {
     "data": {
      "text/html": [
       "<div>\n",
       "<style scoped>\n",
       "    .dataframe tbody tr th:only-of-type {\n",
       "        vertical-align: middle;\n",
       "    }\n",
       "\n",
       "    .dataframe tbody tr th {\n",
       "        vertical-align: top;\n",
       "    }\n",
       "\n",
       "    .dataframe thead th {\n",
       "        text-align: right;\n",
       "    }\n",
       "</style>\n",
       "<table border=\"1\" class=\"dataframe\">\n",
       "  <thead>\n",
       "    <tr style=\"text-align: right;\">\n",
       "      <th></th>\n",
       "      <th>STATUS</th>\n",
       "      <th>cAGR</th>\n",
       "    </tr>\n",
       "  </thead>\n",
       "  <tbody>\n",
       "    <tr>\n",
       "      <th>0</th>\n",
       "      <td>likes the sound of thunder.</td>\n",
       "      <td>1</td>\n",
       "    </tr>\n",
       "    <tr>\n",
       "      <th>1</th>\n",
       "      <td>is so sleepy it's not even funny that's she ca...</td>\n",
       "      <td>1</td>\n",
       "    </tr>\n",
       "    <tr>\n",
       "      <th>2</th>\n",
       "      <td>is sore and wants the knot of muscles at the b...</td>\n",
       "      <td>1</td>\n",
       "    </tr>\n",
       "    <tr>\n",
       "      <th>3</th>\n",
       "      <td>likes how the day sounds in this new song.</td>\n",
       "      <td>1</td>\n",
       "    </tr>\n",
       "    <tr>\n",
       "      <th>4</th>\n",
       "      <td>is home. &lt;3</td>\n",
       "      <td>1</td>\n",
       "    </tr>\n",
       "    <tr>\n",
       "      <th>5</th>\n",
       "      <td>www.thejokerblogs.com</td>\n",
       "      <td>1</td>\n",
       "    </tr>\n",
       "    <tr>\n",
       "      <th>6</th>\n",
       "      <td>saw a nun zombie, and liked it. Also, *PROPNAM...</td>\n",
       "      <td>1</td>\n",
       "    </tr>\n",
       "    <tr>\n",
       "      <th>7</th>\n",
       "      <td>is in Kentucky. 421 miles into her 1100 mile j...</td>\n",
       "      <td>1</td>\n",
       "    </tr>\n",
       "    <tr>\n",
       "      <th>8</th>\n",
       "      <td>was about to finish a digital painting before ...</td>\n",
       "      <td>1</td>\n",
       "    </tr>\n",
       "    <tr>\n",
       "      <th>9</th>\n",
       "      <td>is celebrating her new haircut by listening to...</td>\n",
       "      <td>1</td>\n",
       "    </tr>\n",
       "    <tr>\n",
       "      <th>10</th>\n",
       "      <td>has a crush on the Green Lantern.</td>\n",
       "      <td>1</td>\n",
       "    </tr>\n",
       "    <tr>\n",
       "      <th>11</th>\n",
       "      <td>has magic on the brain.</td>\n",
       "      <td>1</td>\n",
       "    </tr>\n",
       "    <tr>\n",
       "      <th>12</th>\n",
       "      <td>saw Transformers, Up, and Year One this week. ...</td>\n",
       "      <td>1</td>\n",
       "    </tr>\n",
       "    <tr>\n",
       "      <th>13</th>\n",
       "      <td>Who wants to meet up on schedule pick-up day a...</td>\n",
       "      <td>1</td>\n",
       "    </tr>\n",
       "    <tr>\n",
       "      <th>14</th>\n",
       "      <td>desires the thrill of inspiration. Also, money.</td>\n",
       "      <td>1</td>\n",
       "    </tr>\n",
       "    <tr>\n",
       "      <th>15</th>\n",
       "      <td>is going to bed at 9:30! Yeah!</td>\n",
       "      <td>1</td>\n",
       "    </tr>\n",
       "    <tr>\n",
       "      <th>16</th>\n",
       "      <td>is reading, admiring her permit, and occasiona...</td>\n",
       "      <td>1</td>\n",
       "    </tr>\n",
       "    <tr>\n",
       "      <th>17</th>\n",
       "      <td>thinks intangibility should be an option in re...</td>\n",
       "      <td>1</td>\n",
       "    </tr>\n",
       "    <tr>\n",
       "      <th>18</th>\n",
       "      <td>is tired. *PROPNAME*, let me go to sleep pl0x.</td>\n",
       "      <td>1</td>\n",
       "    </tr>\n",
       "    <tr>\n",
       "      <th>19</th>\n",
       "      <td>is discovering the many flavors of insomnia.</td>\n",
       "      <td>1</td>\n",
       "    </tr>\n",
       "    <tr>\n",
       "      <th>20</th>\n",
       "      <td>is watching cousin play computer game on telev...</td>\n",
       "      <td>1</td>\n",
       "    </tr>\n",
       "    <tr>\n",
       "      <th>21</th>\n",
       "      <td>Why is it I'm only getting the urge to draw wh...</td>\n",
       "      <td>1</td>\n",
       "    </tr>\n",
       "    <tr>\n",
       "      <th>22</th>\n",
       "      <td>Who'da thought a single text message could be ...</td>\n",
       "      <td>1</td>\n",
       "    </tr>\n",
       "    <tr>\n",
       "      <th>23</th>\n",
       "      <td>wishes to develop a super power that prevents ...</td>\n",
       "      <td>1</td>\n",
       "    </tr>\n",
       "    <tr>\n",
       "      <th>24</th>\n",
       "      <td>TELL ME WHAT TO DRAW, PLOX.</td>\n",
       "      <td>1</td>\n",
       "    </tr>\n",
       "    <tr>\n",
       "      <th>25</th>\n",
       "      <td>found a bunny, bunny died, buried bunny, now i...</td>\n",
       "      <td>1</td>\n",
       "    </tr>\n",
       "    <tr>\n",
       "      <th>26</th>\n",
       "      <td>&lt;3</td>\n",
       "      <td>1</td>\n",
       "    </tr>\n",
       "    <tr>\n",
       "      <th>27</th>\n",
       "      <td>is just about insane by now.</td>\n",
       "      <td>1</td>\n",
       "    </tr>\n",
       "    <tr>\n",
       "      <th>28</th>\n",
       "      <td>wants to sleep eight hours tonight. And so she...</td>\n",
       "      <td>1</td>\n",
       "    </tr>\n",
       "    <tr>\n",
       "      <th>29</th>\n",
       "      <td>really hates hormones and emotions right now. ...</td>\n",
       "      <td>1</td>\n",
       "    </tr>\n",
       "    <tr>\n",
       "      <th>...</th>\n",
       "      <td>...</td>\n",
       "      <td>...</td>\n",
       "    </tr>\n",
       "    <tr>\n",
       "      <th>9621</th>\n",
       "      <td>seems like everyone wants to write on my wall:...</td>\n",
       "      <td>0</td>\n",
       "    </tr>\n",
       "    <tr>\n",
       "      <th>9133</th>\n",
       "      <td>I long to accomplish a great and noble task, b...</td>\n",
       "      <td>0</td>\n",
       "    </tr>\n",
       "    <tr>\n",
       "      <th>7481</th>\n",
       "      <td>Guess how old I am in my profile photo</td>\n",
       "      <td>0</td>\n",
       "    </tr>\n",
       "    <tr>\n",
       "      <th>831</th>\n",
       "      <td>kailua</td>\n",
       "      <td>0</td>\n",
       "    </tr>\n",
       "    <tr>\n",
       "      <th>9210</th>\n",
       "      <td>that was fun</td>\n",
       "      <td>0</td>\n",
       "    </tr>\n",
       "    <tr>\n",
       "      <th>9594</th>\n",
       "      <td>hopes there is a delayed opening tomorrow:) he...</td>\n",
       "      <td>0</td>\n",
       "    </tr>\n",
       "    <tr>\n",
       "      <th>7513</th>\n",
       "      <td>Hello My name is *PROPNAME*, Human Cyborg rela...</td>\n",
       "      <td>0</td>\n",
       "    </tr>\n",
       "    <tr>\n",
       "      <th>7871</th>\n",
       "      <td>off to work, plowing sidewalks.</td>\n",
       "      <td>0</td>\n",
       "    </tr>\n",
       "    <tr>\n",
       "      <th>3877</th>\n",
       "      <td>Well, that was just about the longest 4 months...</td>\n",
       "      <td>0</td>\n",
       "    </tr>\n",
       "    <tr>\n",
       "      <th>9835</th>\n",
       "      <td>Its ok its ok its ok you can run and tell yo f...</td>\n",
       "      <td>0</td>\n",
       "    </tr>\n",
       "    <tr>\n",
       "      <th>9110</th>\n",
       "      <td>Some people walk in the rain, others just get wet</td>\n",
       "      <td>0</td>\n",
       "    </tr>\n",
       "    <tr>\n",
       "      <th>9622</th>\n",
       "      <td>...</td>\n",
       "      <td>0</td>\n",
       "    </tr>\n",
       "    <tr>\n",
       "      <th>3873</th>\n",
       "      <td>Finals begin next monday. Overhead this today ...</td>\n",
       "      <td>0</td>\n",
       "    </tr>\n",
       "    <tr>\n",
       "      <th>9608</th>\n",
       "      <td>prefers illegal-mexicans construction work to ...</td>\n",
       "      <td>0</td>\n",
       "    </tr>\n",
       "    <tr>\n",
       "      <th>834</th>\n",
       "      <td>gets to see mama and emmsy in 9 days!</td>\n",
       "      <td>0</td>\n",
       "    </tr>\n",
       "    <tr>\n",
       "      <th>3881</th>\n",
       "      <td>An Obama consultant yesterday on taxing high-v...</td>\n",
       "      <td>0</td>\n",
       "    </tr>\n",
       "    <tr>\n",
       "      <th>7496</th>\n",
       "      <td>Please choose ONE of the options and then writ...</td>\n",
       "      <td>0</td>\n",
       "    </tr>\n",
       "    <tr>\n",
       "      <th>9834</th>\n",
       "      <td>PPPPPPoker face PPPoker face</td>\n",
       "      <td>0</td>\n",
       "    </tr>\n",
       "    <tr>\n",
       "      <th>7466</th>\n",
       "      <td>stimulated the economy yesterday... there goes...</td>\n",
       "      <td>0</td>\n",
       "    </tr>\n",
       "    <tr>\n",
       "      <th>786</th>\n",
       "      <td>can't cook</td>\n",
       "      <td>0</td>\n",
       "    </tr>\n",
       "    <tr>\n",
       "      <th>9469</th>\n",
       "      <td>i bought it today, but i haven't opened it yet...</td>\n",
       "      <td>0</td>\n",
       "    </tr>\n",
       "    <tr>\n",
       "      <th>7451</th>\n",
       "      <td>Dear planes,  Please stop crashing, I'd like t...</td>\n",
       "      <td>0</td>\n",
       "    </tr>\n",
       "    <tr>\n",
       "      <th>7871</th>\n",
       "      <td>off to work, plowing sidewalks.</td>\n",
       "      <td>0</td>\n",
       "    </tr>\n",
       "    <tr>\n",
       "      <th>9833</th>\n",
       "      <td>is saying that the Vikings better kill the lio...</td>\n",
       "      <td>0</td>\n",
       "    </tr>\n",
       "    <tr>\n",
       "      <th>811</th>\n",
       "      <td>har bare tre uker i Norge... :( :(</td>\n",
       "      <td>0</td>\n",
       "    </tr>\n",
       "    <tr>\n",
       "      <th>7875</th>\n",
       "      <td>wishes 2009 would end so 2010 could start</td>\n",
       "      <td>0</td>\n",
       "    </tr>\n",
       "    <tr>\n",
       "      <th>7530</th>\n",
       "      <td>got a doggie!! what to name it?</td>\n",
       "      <td>0</td>\n",
       "    </tr>\n",
       "    <tr>\n",
       "      <th>9131</th>\n",
       "      <td>monday..enough said</td>\n",
       "      <td>0</td>\n",
       "    </tr>\n",
       "    <tr>\n",
       "      <th>3875</th>\n",
       "      <td>Finals.</td>\n",
       "      <td>0</td>\n",
       "    </tr>\n",
       "    <tr>\n",
       "      <th>9623</th>\n",
       "      <td>its nice to have unexpected friends whom u tal...</td>\n",
       "      <td>0</td>\n",
       "    </tr>\n",
       "  </tbody>\n",
       "</table>\n",
       "<p>18678 rows × 2 columns</p>\n",
       "</div>"
      ],
      "text/plain": [
       "                                                 STATUS  cAGR\n",
       "0                           likes the sound of thunder.     1\n",
       "1     is so sleepy it's not even funny that's she ca...     1\n",
       "2     is sore and wants the knot of muscles at the b...     1\n",
       "3            likes how the day sounds in this new song.     1\n",
       "4                                           is home. <3     1\n",
       "...                                                 ...   ...\n",
       "7875          wishes 2009 would end so 2010 could start     0\n",
       "7530                    got a doggie!! what to name it?     0\n",
       "9131                                monday..enough said     0\n",
       "3875                                            Finals.     0\n",
       "9623  its nice to have unexpected friends whom u tal...     0\n",
       "\n",
       "[18678 rows x 2 columns]"
      ]
     },
     "execution_count": 28,
     "metadata": {},
     "output_type": "execute_result"
    }
   ],
   "source": [
    "df_upsampled"
   ]
  },
  {
   "cell_type": "markdown",
   "metadata": {},
   "source": [
    "\n",
    "# --------------------------------------------------------------------\n",
    "SOURCE: https://towardsdatascience.com/machine-learning-word-embedding-sentiment-classification-using-keras-b83c28087456\n",
    "# Part 3: Classification of cAGR"
   ]
  },
  {
   "cell_type": "markdown",
   "metadata": {},
   "source": [
    "\n",
    "# 1. The first step is to prepare the text corpus for learning the embedding by creating: (1) word tokens, (2) removing punctuation, (3) removing stop words etc. \n",
    "\n",
    "## NB: The word2vec algorithm processes documents sentence by sentence.\n",
    "\n",
    "## New: Stop words list is now in english and arabic"
   ]
  },
  {
   "cell_type": "code",
   "execution_count": 29,
   "metadata": {},
   "outputs": [],
   "source": [
    "import string\n",
    "from nltk.tokenize import word_tokenize\n",
    "from nltk.corpus import stopwords\n",
    "\n",
    "review_lines = list()\n",
    "lines = df_upsampled['STATUS'].values.tolist()\n",
    "\n",
    "for line in lines:   \n",
    "    tokens = word_tokenize(line)\n",
    "    # convert to lower case\n",
    "    tokens = [w.lower() for w in tokens]\n",
    "    # remove punctuation from each word    \n",
    "    table = str.maketrans('', '', string.punctuation)\n",
    "    stripped = [w.translate(table) for w in tokens]\n",
    "    # remove remaining tokens that are not alphabetic\n",
    "    words = [word for word in stripped if word.isalpha()]\n",
    "    # filter out stop words    \n",
    "    stop_eng = stopwords.words('english')\n",
    "    words = [w for w in words if not w in stop_eng]\n",
    "    review_lines.append(words)"
   ]
  },
  {
   "cell_type": "code",
   "execution_count": 30,
   "metadata": {},
   "outputs": [
    {
     "data": {
      "text/plain": [
       "18678"
      ]
     },
     "execution_count": 30,
     "metadata": {},
     "output_type": "execute_result"
    }
   ],
   "source": [
    "len(review_lines)"
   ]
  },
  {
   "cell_type": "code",
   "execution_count": 31,
   "metadata": {},
   "outputs": [
    {
     "data": {
      "text/plain": [
       "['sleepy', 'even', 'funny', 'ca', 'nt', 'get', 'sleep']"
      ]
     },
     "execution_count": 31,
     "metadata": {},
     "output_type": "execute_result"
    }
   ],
   "source": [
    "review_lines[1]"
   ]
  },
  {
   "cell_type": "code",
   "execution_count": 32,
   "metadata": {},
   "outputs": [
    {
     "data": {
      "text/plain": [
       "7"
      ]
     },
     "execution_count": 32,
     "metadata": {},
     "output_type": "execute_result"
    }
   ],
   "source": [
    "len(review_lines[1])"
   ]
  },
  {
   "cell_type": "code",
   "execution_count": 33,
   "metadata": {},
   "outputs": [
    {
     "data": {
      "text/plain": [
       "['sore',\n",
       " 'wants',\n",
       " 'knot',\n",
       " 'muscles',\n",
       " 'base',\n",
       " 'neck',\n",
       " 'stop',\n",
       " 'hurting',\n",
       " 'hand',\n",
       " 'yay',\n",
       " 'illinois']"
      ]
     },
     "execution_count": 33,
     "metadata": {},
     "output_type": "execute_result"
    }
   ],
   "source": [
    "review_lines[2]"
   ]
  },
  {
   "cell_type": "code",
   "execution_count": 34,
   "metadata": {},
   "outputs": [
    {
     "data": {
      "text/plain": [
       "11"
      ]
     },
     "execution_count": 34,
     "metadata": {},
     "output_type": "execute_result"
    }
   ],
   "source": [
    "len(review_lines[2])"
   ]
  },
  {
   "cell_type": "markdown",
   "metadata": {},
   "source": [
    "#### SO, It is essential to have equal input tensors for the neural network"
   ]
  },
  {
   "cell_type": "markdown",
   "metadata": {},
   "source": [
    "# 2. Train word2vec model: Gensim’s Word2Vec API requires some parameters for initialization\n",
    "1. __sentences__ – List of sentences; here we pass the list of review sentences.\n",
    "\n",
    "2. __size__ – The number of dimensions in which we wish to represent our word. This is the size of the word vector.\n",
    "\n",
    "3. __min_count__ – Word with frequency greater than min_count only are going to be included into the model. Usually, the bigger and more extensive your text, the higher this number can be.\n",
    "\n",
    "4. __window__ – Only terms that occur within a window-neighborhood of a term, in a sentence, are associated with it during training. The usual value is 4 or 5.\n",
    "\n",
    "5. __workers__– Number of threads used in training parallelization, to speed up training"
   ]
  },
  {
   "cell_type": "code",
   "execution_count": 35,
   "metadata": {},
   "outputs": [
    {
     "name": "stderr",
     "output_type": "stream",
     "text": [
      "C:\\Users\\Hassa\\.conda\\envs\\gputest1\\lib\\site-packages\\gensim\\utils.py:1197: UserWarning: detected Windows; aliasing chunkize to chunkize_serial\n",
      "  warnings.warn(\"detected Windows; aliasing chunkize to chunkize_serial\")\n",
      "C:\\Users\\Hassa\\.conda\\envs\\gputest1\\lib\\site-packages\\smart_open\\smart_open_lib.py:398: UserWarning: This function is deprecated, use smart_open.open instead. See the migration notes for details: https://github.com/RaRe-Technologies/smart_open/blob/master/README.rst#migrating-to-the-new-open-function\n",
      "  'See the migration notes for details: %s' % _MIGRATION_NOTES_URL\n"
     ]
    }
   ],
   "source": [
    "import gensim \n",
    "from gensim.models import KeyedVectors\n",
    "EMBEDDING_DIM = 300\n",
    "\n",
    "model = KeyedVectors.load_word2vec_format('C:/Users/Hassa/Desktop/StephanyAnaconda/GoogleNews-vectors-negative300.bin', binary=True)"
   ]
  },
  {
   "cell_type": "code",
   "execution_count": 36,
   "metadata": {},
   "outputs": [
    {
     "name": "stdout",
     "output_type": "stream",
     "text": [
      "Vocabulary size: 3000000\n"
     ]
    },
    {
     "name": "stderr",
     "output_type": "stream",
     "text": [
      "C:\\Users\\Hassa\\.conda\\envs\\gputest1\\lib\\site-packages\\ipykernel_launcher.py:2: DeprecationWarning: Call to deprecated `wv` (Attribute will be removed in 4.0.0, use self instead).\n",
      "  \n"
     ]
    }
   ],
   "source": [
    "# vocab size\n",
    "words = list(model.wv.vocab)\n",
    "print('Vocabulary size: %d' % len(words))"
   ]
  },
  {
   "cell_type": "code",
   "execution_count": 37,
   "metadata": {},
   "outputs": [
    {
     "name": "stderr",
     "output_type": "stream",
     "text": [
      "C:\\Users\\Hassa\\.conda\\envs\\gputest1\\lib\\site-packages\\ipykernel_launcher.py:2: DeprecationWarning: Call to deprecated `wv` (Attribute will be removed in 4.0.0, use self instead).\n",
      "  \n",
      "C:\\Users\\Hassa\\.conda\\envs\\gputest1\\lib\\site-packages\\ipykernel_launcher.py:3: DeprecationWarning: Call to deprecated `wv` (Attribute will be removed in 4.0.0, use self instead).\n",
      "  This is separate from the ipykernel package so we can avoid doing imports until\n"
     ]
    }
   ],
   "source": [
    "my_dict=dict({})\n",
    "for idx, key in enumerate(model.wv.vocab):\n",
    "    my_dict[key]=model.wv[key]"
   ]
  },
  {
   "cell_type": "markdown",
   "metadata": {},
   "source": [
    "# 3. Test Word2Vec Model\n",
    "After we train the model on our dataset, it builds a vocabulary size = 37754 . Let us try some word embeddings the model learnt from the  dataset.\n",
    "\n",
    "The most similar words for word 'horrible' are:"
   ]
  },
  {
   "cell_type": "code",
   "execution_count": 34,
   "metadata": {},
   "outputs": [
    {
     "name": "stderr",
     "output_type": "stream",
     "text": [
      "C:\\Users\\Hassa\\.conda\\envs\\gputest1\\lib\\site-packages\\ipykernel_launcher.py:3: DeprecationWarning: Call to deprecated `wv` (Attribute will be removed in 4.0.0, use self instead).\n",
      "  This is separate from the ipykernel package so we can avoid doing imports until\n"
     ]
    },
    {
     "data": {
      "text/plain": [
       "[('kings', 0.7138045430183411),\n",
       " ('queen', 0.6510956883430481),\n",
       " ('monarch', 0.6413194537162781),\n",
       " ('crown_prince', 0.6204219460487366),\n",
       " ('prince', 0.6159993410110474),\n",
       " ('sultan', 0.5864823460578918),\n",
       " ('ruler', 0.5797567367553711),\n",
       " ('princes', 0.5646552443504333),\n",
       " ('Prince_Paras', 0.5432944297790527),\n",
       " ('throne', 0.5422105193138123)]"
      ]
     },
     "execution_count": 34,
     "metadata": {},
     "output_type": "execute_result"
    }
   ],
   "source": [
    "# let us try some utility functions of gensim word2vec more details here \n",
    "# If word is not in vocabulary, there will be an error\n",
    "model.wv.most_similar('king')#, topn =1)"
   ]
  },
  {
   "cell_type": "code",
   "execution_count": 35,
   "metadata": {},
   "outputs": [
    {
     "name": "stderr",
     "output_type": "stream",
     "text": [
      "C:\\Users\\Hassa\\.conda\\envs\\gputest1\\lib\\site-packages\\ipykernel_launcher.py:2: DeprecationWarning: Call to deprecated `wv` (Attribute will be removed in 4.0.0, use self instead).\n",
      "  \n"
     ]
    },
    {
     "data": {
      "text/plain": [
       "[('lovely', 1.0306419134140015),\n",
       " ('wonderful', 1.0185023546218872),\n",
       " ('gorgeous', 0.9769635796546936),\n",
       " ('fabulous', 0.9750576615333557),\n",
       " ('magnificent', 0.9595586061477661),\n",
       " ('marvelous', 0.948007345199585),\n",
       " ('elegant', 0.9255857467651367),\n",
       " ('nice', 0.9224334359169006),\n",
       " ('stunningly_beautiful', 0.9212766885757446),\n",
       " ('delightful', 0.9196565747261047)]"
      ]
     },
     "execution_count": 35,
     "metadata": {},
     "output_type": "execute_result"
    }
   ],
   "source": [
    "#Let’s see the result of semantically reasonable word vectors (king - man + woman)\n",
    "model.wv.most_similar_cosmul(positive=['good', 'beautiful'], negative=['bad'])"
   ]
  },
  {
   "cell_type": "code",
   "execution_count": 36,
   "metadata": {},
   "outputs": [
    {
     "name": "stderr",
     "output_type": "stream",
     "text": [
      "C:\\Users\\Hassa\\.conda\\envs\\gputest1\\lib\\site-packages\\ipykernel_launcher.py:1: DeprecationWarning: Call to deprecated `wv` (Attribute will be removed in 4.0.0, use self instead).\n",
      "  \"\"\"Entry point for launching an IPython kernel.\n"
     ]
    },
    {
     "data": {
      "text/plain": [
       "[('queen', 0.9314123392105103),\n",
       " ('monarch', 0.858533501625061),\n",
       " ('princess', 0.8476566076278687),\n",
       " ('Queen_Consort', 0.8150269985198975),\n",
       " ('queens', 0.8099815249443054),\n",
       " ('crown_prince', 0.8089975714683533),\n",
       " ('royal_palace', 0.8027306795120239),\n",
       " ('monarchy', 0.801961362361908),\n",
       " ('prince', 0.800979733467102),\n",
       " ('empress', 0.7958387136459351)]"
      ]
     },
     "execution_count": 36,
     "metadata": {},
     "output_type": "execute_result"
    }
   ],
   "source": [
    "model.wv.most_similar_cosmul(positive=['king', 'woman'], negative=['man'])"
   ]
  },
  {
   "cell_type": "code",
   "execution_count": 37,
   "metadata": {},
   "outputs": [
    {
     "name": "stdout",
     "output_type": "stream",
     "text": [
      "movie\n"
     ]
    },
    {
     "name": "stderr",
     "output_type": "stream",
     "text": [
      "C:\\Users\\Hassa\\.conda\\envs\\gputest1\\lib\\site-packages\\ipykernel_launcher.py:1: DeprecationWarning: Call to deprecated `wv` (Attribute will be removed in 4.0.0, use self instead).\n",
      "  \"\"\"Entry point for launching an IPython kernel.\n",
      "C:\\Users\\Hassa\\.conda\\envs\\gputest1\\lib\\site-packages\\gensim\\models\\keyedvectors.py:730: FutureWarning: arrays to stack must be passed as a \"sequence\" type such as list or tuple. Support for non-sequence iterables such as generators is deprecated as of NumPy 1.16 and will raise an error in the future.\n",
      "  vectors = vstack(self.word_vec(word, use_norm=True) for word in used_words).astype(REAL)\n"
     ]
    }
   ],
   "source": [
    "print(model.wv.doesnt_match(\"woman king queen movie\".split()))"
   ]
  },
  {
   "cell_type": "markdown",
   "metadata": {},
   "source": [
    "This is very interesting to see the word embeddings learned by our word2vec model form the text corpus. __The next step is to use the word embeddings directly in the embedding layer in our regression analysis model__. we can save the model to be used later.\n",
    "\n",
    "# 4. Use our pretrained embedding\n",
    "1. Since we have already trained word2vec model with __OUR__ dataset, we have the word embeddings ready to use. \n",
    "(Steph: you can add our dataset to an existing word embedding (to be downloaded) or update it with the other MyPersonality dataset)\n",
    "\n",
    "2. __The next step is to load the word embedding as a directory of words to vectors__. --> Steph: for each embedding index (key = word), we did an embedding 2D vector mapping all the word embeddings to be able to use them in our NeuralNet\n",
    "\n",
    "3. The word embedding was saved in file ClassificationOfText-1.txt. Let us extract the word embeddings from the stored file.\n",
    "\n",
    "# Embeddings are now not embeddings_index[word] but in my_dict[key]"
   ]
  },
  {
   "cell_type": "code",
   "execution_count": 38,
   "metadata": {},
   "outputs": [],
   "source": [
    "# Extracting word embeddings from the stored file\n",
    "#import os\n",
    "\n",
    "#embeddings_index = {}\n",
    "#f = open(os.path.join('', 'OpennessCode_BasicDNNvsMaximalRegularization.txt'),  encoding = \"utf-8\")\n",
    "#for line in f:\n",
    "#    values = line.split()\n",
    "#    word = values[0]\n",
    "#    coefs = np.asarray(values[1:])\n",
    "#    embeddings_index[word] = coefs\n",
    "#f.close()"
   ]
  },
  {
   "cell_type": "code",
   "execution_count": 39,
   "metadata": {},
   "outputs": [],
   "source": [
    "from sklearn.model_selection import train_test_split\n",
    "df_x = df_upsampled['STATUS'].values\n",
    "df_y = df_upsampled['cAGR'].values\n",
    "x_train, x_test, y_train, y_test = train_test_split(df_x, df_y, test_size=0.5, random_state = 42)"
   ]
  },
  {
   "cell_type": "code",
   "execution_count": 40,
   "metadata": {},
   "outputs": [
    {
     "data": {
      "text/plain": [
       "array([0, 0, 0, ..., 1, 1, 0], dtype=int64)"
      ]
     },
     "execution_count": 40,
     "metadata": {},
     "output_type": "execute_result"
    }
   ],
   "source": [
    "y_train"
   ]
  },
  {
   "cell_type": "code",
   "execution_count": 41,
   "metadata": {},
   "outputs": [
    {
     "data": {
      "text/plain": [
       "array([0, 1, 1, ..., 0, 0, 1], dtype=int64)"
      ]
     },
     "execution_count": 41,
     "metadata": {},
     "output_type": "execute_result"
    }
   ],
   "source": [
    "y_test"
   ]
  },
  {
   "cell_type": "code",
   "execution_count": 42,
   "metadata": {},
   "outputs": [
    {
     "data": {
      "text/plain": [
       "19504"
      ]
     },
     "execution_count": 42,
     "metadata": {},
     "output_type": "execute_result"
    }
   ],
   "source": [
    "len(df_upsampled)"
   ]
  },
  {
   "cell_type": "code",
   "execution_count": 43,
   "metadata": {},
   "outputs": [
    {
     "data": {
      "text/plain": [
       "9752"
      ]
     },
     "execution_count": 43,
     "metadata": {},
     "output_type": "execute_result"
    }
   ],
   "source": [
    "len(x_train)"
   ]
  },
  {
   "cell_type": "code",
   "execution_count": 44,
   "metadata": {},
   "outputs": [
    {
     "data": {
      "text/plain": [
       "9752"
      ]
     },
     "execution_count": 44,
     "metadata": {},
     "output_type": "execute_result"
    }
   ],
   "source": [
    "len(x_test)"
   ]
  },
  {
   "cell_type": "code",
   "execution_count": 45,
   "metadata": {},
   "outputs": [
    {
     "data": {
      "text/plain": [
       "153"
      ]
     },
     "execution_count": 45,
     "metadata": {},
     "output_type": "execute_result"
    }
   ],
   "source": [
    "# Maximum number of words in a status = 6002\n",
    "# We will pad all the words in a status on the maximum words # in a status with 0s, since we have to enter the same vector length\n",
    "# Then this vector will be mapped to a word embedding of 10\n",
    "total_reviews = x_train + x_test\n",
    "max_length = max([len(s.split()) for s in total_reviews]) # Look at the max function --> It will get the max status length\n",
    "max_length"
   ]
  },
  {
   "cell_type": "markdown",
   "metadata": {},
   "source": [
    "### Steph: Not all statuses map to all embeddings, each status has specific words hence specific embeddings"
   ]
  },
  {
   "cell_type": "code",
   "execution_count": 46,
   "metadata": {},
   "outputs": [
    {
     "name": "stdout",
     "output_type": "stream",
     "text": [
      "Found 15232 unique tokens.\n",
      "Shape of status tensor: (19504, 153)\n",
      "Shape of class tensor: (19504,)\n"
     ]
    },
    {
     "data": {
      "text/plain": [
       "array([0, 1, 2, 3, 4, 5, 6, 7, 8, 9])"
      ]
     },
     "execution_count": 46,
     "metadata": {},
     "output_type": "execute_result"
    }
   ],
   "source": [
    "from tensorflow.python.keras.preprocessing.text import Tokenizer\n",
    "from tensorflow.python.keras.preprocessing.sequence import pad_sequences\n",
    "\n",
    "VALIDATION_SPLIT = 0.2\n",
    "\n",
    "# vectorize the text samples into a 2D integer tensor\n",
    "tokenizer_obj = Tokenizer()\n",
    "tokenizer_obj.fit_on_texts(review_lines)\n",
    "sequences = tokenizer_obj.texts_to_sequences(review_lines)\n",
    "\n",
    "# pad sequences\n",
    "word_index = tokenizer_obj.word_index\n",
    "print('Found %s unique tokens.' % len(word_index))\n",
    "\n",
    "review_pad = pad_sequences(sequences, maxlen=max_length)\n",
    "sentiment =  df_upsampled['cAGR'].values\n",
    "print('Shape of status tensor:', review_pad.shape) # 12223 rows, 360 cols as max length, not all filled with numbers other than 0s of course.\n",
    "print('Shape of class tensor:', sentiment.shape) # 12223 rows, and 1 and only 1 default column containing sOPN value\n",
    "\n",
    "num_words = len(word_index) + 1\n",
    "\n",
    "# split the data into a training set and a validation set\n",
    "indices = np.arange(review_pad.shape[0]) #take number of rows=12223 and shuffle them\n",
    "indices[:10]\n"
   ]
  },
  {
   "cell_type": "code",
   "execution_count": 47,
   "metadata": {},
   "outputs": [
    {
     "data": {
      "text/plain": [
       "array([ 1582, 19337,  3231, 12294,  6072,  2301,  2549, 14376,  6094,\n",
       "         903])"
      ]
     },
     "execution_count": 47,
     "metadata": {},
     "output_type": "execute_result"
    }
   ],
   "source": [
    "np.random.shuffle(indices)\n",
    "indices[:10]"
   ]
  },
  {
   "cell_type": "code",
   "execution_count": 48,
   "metadata": {},
   "outputs": [
    {
     "data": {
      "text/plain": [
       "array([  0,   0,   0,   0,   0,   0,   0,   0,   0,   0,   0,   0,   0,\n",
       "         0,   0,   0,   0,   0,   0,   0,   0,   0,   0,   0,   0,   0,\n",
       "         0,   0,   0,   0,   0,   0,   0,   0,   0,   0,   0,   0,   0,\n",
       "         0,   0,   0,   0,   0,   0,   0,   0,   0,   0,   0,   0,   0,\n",
       "         0,   0,   0,   0,   0,   0,   0,   0,   0,   0,   0,   0,   0,\n",
       "         0,   0,   0,   0,   0,   0,   0,   0,   0,   0,   0,   0,   0,\n",
       "         0,   0,   0,   0,   0,   0,   0,   0,   0,   0,   0,   0,   0,\n",
       "         0,   0,   0,   0,   0,   0,   0,   0,   0,   0,   0,   0,   0,\n",
       "         0,   0,   0,   0,   0,   0,   0,   0,   0,   0,   0,   0,   0,\n",
       "         0,   0,   0,   0,   0,   0,   0,   0,   0,   0,   0,   0,   0,\n",
       "         0,   0,   0,   0,   0,   0,   0,   0,   0,   0,  14,  15, 136,\n",
       "       606, 405, 607, 457, 188,  35, 156,  77, 151, 608])"
      ]
     },
     "execution_count": 48,
     "metadata": {},
     "output_type": "execute_result"
    }
   ],
   "source": [
    "review_pad = review_pad[indices]\n",
    "review_pad[1]"
   ]
  },
  {
   "cell_type": "code",
   "execution_count": 49,
   "metadata": {},
   "outputs": [
    {
     "data": {
      "text/plain": [
       "153"
      ]
     },
     "execution_count": 49,
     "metadata": {},
     "output_type": "execute_result"
    }
   ],
   "source": [
    "# X independent variable\n",
    "#N3AMALON PAD --> EQUAL SIZES for all review_pad[1]=review_pad[2]=review_pad[3]...=5905\n",
    "len(review_pad[1])"
   ]
  },
  {
   "cell_type": "code",
   "execution_count": 50,
   "metadata": {},
   "outputs": [
    {
     "data": {
      "text/plain": [
       "153"
      ]
     },
     "execution_count": 50,
     "metadata": {},
     "output_type": "execute_result"
    }
   ],
   "source": [
    "len(review_pad[2])"
   ]
  },
  {
   "cell_type": "code",
   "execution_count": 51,
   "metadata": {},
   "outputs": [
    {
     "data": {
      "text/plain": [
       "0"
      ]
     },
     "execution_count": 51,
     "metadata": {},
     "output_type": "execute_result"
    }
   ],
   "source": [
    "# Y Target variable\n",
    "sentiment = sentiment[indices]\n",
    "sentiment[1]"
   ]
  },
  {
   "cell_type": "code",
   "execution_count": 52,
   "metadata": {},
   "outputs": [
    {
     "data": {
      "text/plain": [
       "19504"
      ]
     },
     "execution_count": 52,
     "metadata": {},
     "output_type": "execute_result"
    }
   ],
   "source": [
    "review_pad.shape[0] #upsampled, it should've been 404 + 250 users."
   ]
  },
  {
   "cell_type": "code",
   "execution_count": 53,
   "metadata": {},
   "outputs": [
    {
     "data": {
      "text/plain": [
       "3900"
      ]
     },
     "execution_count": 53,
     "metadata": {},
     "output_type": "execute_result"
    }
   ],
   "source": [
    "num_validation_samples = int(VALIDATION_SPLIT * review_pad.shape[0]) # 0.2 x 805 users\n",
    "num_validation_samples"
   ]
  },
  {
   "cell_type": "code",
   "execution_count": 54,
   "metadata": {},
   "outputs": [],
   "source": [
    "X_train_pad = review_pad[:-num_validation_samples]\n",
    "y_train = sentiment[:-num_validation_samples]\n",
    "X_test_pad = review_pad[-num_validation_samples:]\n",
    "y_test = sentiment[-num_validation_samples:]"
   ]
  },
  {
   "cell_type": "code",
   "execution_count": 55,
   "metadata": {},
   "outputs": [
    {
     "name": "stdout",
     "output_type": "stream",
     "text": [
      "Shape of X_train_pad tensor: (15604, 153)\n",
      "Shape of y_train tensor: (15604,)\n",
      "Shape of X_test_pad tensor: (3900, 153)\n",
      "Shape of y_test tensor: (3900,)\n"
     ]
    }
   ],
   "source": [
    "print('Shape of X_train_pad tensor:', X_train_pad.shape)\n",
    "print('Shape of y_train tensor:', y_train.shape)\n",
    "\n",
    "print('Shape of X_test_pad tensor:', X_test_pad.shape)\n",
    "print('Shape of y_test tensor:', y_test.shape)"
   ]
  },
  {
   "cell_type": "markdown",
   "metadata": {},
   "source": [
    "# WE ARE USING THIS SPLIT: Training-Validation-Testing Data\n",
    "# ----------------------------------------------------------------------------------------------"
   ]
  },
  {
   "cell_type": "code",
   "execution_count": 56,
   "metadata": {},
   "outputs": [],
   "source": [
    "from sklearn.model_selection import train_test_split\n",
    "df_x = df_upsampled['STATUS'].values\n",
    "df_y = df_upsampled['cAGR'].values\n",
    "x_train, x_val_and_test, y_train, y_val_and_test = train_test_split(review_pad, sentiment, test_size=0.3, random_state = 42)"
   ]
  },
  {
   "cell_type": "code",
   "execution_count": 57,
   "metadata": {},
   "outputs": [
    {
     "name": "stdout",
     "output_type": "stream",
     "text": [
      "Shape of X_train_pad tensor: (13652, 153)\n",
      "Shape of y_train tensor: (13652,)\n",
      "Shape of X_test_pad tensor: (5852, 153)\n",
      "Shape of y_test tensor: (5852,)\n"
     ]
    }
   ],
   "source": [
    "print('Shape of X_train_pad tensor:', x_train.shape)\n",
    "print('Shape of y_train tensor:', y_train.shape)\n",
    "\n",
    "print('Shape of X_test_pad tensor:', x_val_and_test.shape)\n",
    "print('Shape of y_test tensor:', y_val_and_test.shape)"
   ]
  },
  {
   "cell_type": "markdown",
   "metadata": {},
   "source": [
    "source: https://www.freecodecamp.org/news/how-to-build-your-first-neural-network-to-predict-house-prices-with-keras-f8db83049159/\n",
    "## Splitting our data into 3: Training, Validation, and Testing\n",
    "\n",
    "We will use the code from scikit-learn called ‘train_test_split’, which as the name suggests, split our dataset into a training set and a test set. We first import the code we need:\n",
    "\n",
    "from sklearn.model_selection import train_test_split\n",
    "Then, split your dataset like this:\n",
    "\n",
    "X_train, X_val_and_test, Y_train, Y_val_and_test = train_test_split(X_scale, Y, test_size=0.2)\n",
    "This tells scikit-learn that your val_and_test size will be 30% of the overall dataset. The code will store the split data into the first four variables on the left of the equal sign as the variable names suggest.\n",
    "\n",
    "### Unfortunately, this function only helps us split our dataset into two. Since we want a separate validation set and test set, we can use the same function to do the split again on val_and_test:\n",
    "\n",
    "#### X_val, X_test, Y_val, Y_test = train_test_split(X_val_and_test, Y_val_and_test, test_size=0.5)\n",
    "The code above will split the val_and_test size equally to the validation set and the test set.\n",
    "\n",
    "In summary, we now have a total of six variables for our datasets we will use:\n",
    "\n",
    "1. X_train (10 input features, 80% of full dataset)\n",
    "2. X_val (10 input features, 10% of full dataset)\n",
    "3. X_test (10 input features, 10% of full dataset)\n",
    "4. Y_train (1 label, 80% of full dataset)\n",
    "5. Y_val (1 label, 10% of full dataset)\n",
    "6. Y_test (1 label, 10% of full dataset)\n",
    "7. If you want to see how the shapes of the arrays are for each of them (i.e. what dimensions they are), simply run\n",
    "\n",
    "print(X_train.shape, X_val.shape, X_test.shape, Y_train.shape, Y_val.shape, Y_test.shape)\n",
    "\n",
    "### Once you’re happy with your final model, we can evaluate it on the test set. To find the accuracy on our test set, we run this code snippet:\n",
    "\n",
    "- model.evaluate(X_test, Y_test)[1]\n",
    "\n",
    "The reason why we have the index 1 after the model.evaluate function is because the function returns the loss as the first element and the accuracy as the second element. To only output the accuracy, simply access the second element (which is indexed by 1, since the first element starts its indexing from 0).\n",
    "\n",
    "### Due to the randomness in how we have split the dataset as well as the initialization of the weights, the numbers and graph will differ slightly each time we run our notebook. Nevertheless, you should get a test accuracy anywhere between 80% to 95% if you’ve followed the architecture I specified above!"
   ]
  },
  {
   "cell_type": "code",
   "execution_count": 58,
   "metadata": {},
   "outputs": [],
   "source": [
    "x_val, x_test, y_val, y_test = train_test_split(x_val_and_test, y_val_and_test, test_size=0.34)"
   ]
  },
  {
   "cell_type": "code",
   "execution_count": 59,
   "metadata": {},
   "outputs": [
    {
     "name": "stdout",
     "output_type": "stream",
     "text": [
      "(13652, 153) (3862, 153) (1990, 153) (13652,) (3862,) (1990,)\n"
     ]
    }
   ],
   "source": [
    "print(x_train.shape, x_val.shape, x_test.shape, y_train.shape, y_val.shape, y_test.shape)"
   ]
  },
  {
   "cell_type": "markdown",
   "metadata": {},
   "source": [
    "# 5. The next step is to convert the word embedding into tokenized vector. \n",
    "- __Before: Recall that the review documents are integer encoded prior to passing them to the Embedding layer__. \n",
    "- __The intenger still has meaning:__ The integer maps to the index of a specific vector in the embedding layer. Therefore, it is important that we lay the vectors out in the Embedding layer such that the encoded words map to the correct vector.\n",
    "\n",
    "# 6. Now we will map embeddings from the loaded word2vec model for each word to the tokenizer_obj.word_index vocabulary and create a matrix with of word vectors.\n",
    "\n",
    "### word_index: dictionary mapping words (str) to their rank/index (int). Only set after fit_on_texts was called."
   ]
  },
  {
   "cell_type": "code",
   "execution_count": 60,
   "metadata": {},
   "outputs": [],
   "source": [
    "EMBEDDING_DIM =300\n",
    "num_words = len(word_index) + 1\n",
    "embedding_matrix = np.zeros((num_words, EMBEDDING_DIM)) # Create matrix with the following dimensions\n",
    "\n",
    "for word, i in word_index.items(): # defined above as: word_index = tokenizer_obj.word_index, returns a key,value pair\n",
    "    #key=word stored in word and value=rank/index stored in i\n",
    "    if i > num_words:\n",
    "        continue\n",
    "    #embedding_vector = embeddings_index.get(word) # --> get the embeddings already trained for (embeddings_index[word] = coefs)\n",
    "    embedding_vector = my_dict.get(word)\n",
    "    # The get() method returns the value for the specified key if key is in dictionary.\n",
    "    if embedding_vector is not None:\n",
    "        # words not found in embedding index will be all-zeros.\n",
    "        embedding_matrix[i] = embedding_vector # Fill our membedding matrix for all words found in our vocabulary (7897 words)\n",
    "        # i = rank/index\n",
    "        # embedding_vector = weights of embeddings learnt"
   ]
  },
  {
   "cell_type": "markdown",
   "metadata": {},
   "source": [
    "### Embedding layer example: \n",
    "below we define an Embedding layer with a vocabulary of 200 (e.g. integer encoded words from 0 to 199, inclusive), a vector space of 32 dimensions in which words will be embedded, and input documents that have 50 words each.\n",
    "\n",
    "__e = Embedding(200, 32, input_length=50)__ <br>\n",
    "Summary would be:<br>\n",
    "Embedding layer (None, 50, 32)"
   ]
  },
  {
   "cell_type": "markdown",
   "metadata": {},
   "source": [
    "### Model 1: Global Average Pooling with 2 hidden layers (input layer = embedding and output layer = sigmoid)\n",
    "#### Case 1: Normal"
   ]
  },
  {
   "cell_type": "code",
   "execution_count": 61,
   "metadata": {},
   "outputs": [
    {
     "name": "stderr",
     "output_type": "stream",
     "text": [
      "Using TensorFlow backend.\n"
     ]
    },
    {
     "name": "stdout",
     "output_type": "stream",
     "text": [
      "WARNING:tensorflow:From C:\\Users\\Hassa\\.conda\\envs\\gputest1\\lib\\site-packages\\tensorflow\\python\\framework\\op_def_library.py:263: colocate_with (from tensorflow.python.framework.ops) is deprecated and will be removed in a future version.\n",
      "Instructions for updating:\n",
      "Colocations handled automatically by placer.\n",
      "_________________________________________________________________\n",
      "Layer (type)                 Output Shape              Param #   \n",
      "=================================================================\n",
      "embedding_1 (Embedding)      (None, 153, 300)          4569900   \n",
      "_________________________________________________________________\n",
      "global_average_pooling1d_1 ( (None, 300)               0         \n",
      "_________________________________________________________________\n",
      "dense_1 (Dense)              (None, 16)                4816      \n",
      "_________________________________________________________________\n",
      "dense_2 (Dense)              (None, 1)                 17        \n",
      "=================================================================\n",
      "Total params: 4,574,733\n",
      "Trainable params: 4,833\n",
      "Non-trainable params: 4,569,900\n",
      "_________________________________________________________________\n",
      "None\n"
     ]
    }
   ],
   "source": [
    "import keras\n",
    "import tensorflow as tf\n",
    "from keras.models import Sequential\n",
    "from keras.layers import Dense, Embedding, Flatten\n",
    "from keras.layers.convolutional import Conv1D\n",
    "from keras.layers.convolutional import MaxPooling1D\n",
    "from keras.initializers import Constant\n",
    "\n",
    "# define model\n",
    "model1 = Sequential()\n",
    "# load pre-trained word embeddings into an Embedding layer\n",
    "# note that we set trainable = False so as to keep the embeddings fixed\n",
    "embedding_layer = Embedding(num_words,\n",
    "                            EMBEDDING_DIM,\n",
    "                            embeddings_initializer=Constant(embedding_matrix), # the one we filled by hand and already learnt\n",
    "                            input_length=max_length,\n",
    "                            trainable=False)\n",
    "\n",
    "model1.add(embedding_layer) # Output is 3D tensor with shape: (batch_size, sequence_length, output_dim).\n",
    "# We need GAP to not get an error: ValueError: Error when checking target: expected dense_8 to have\n",
    "# 3 dimensions, but got array with shape (644, 1)\n",
    "model1.add(keras.layers.GlobalAveragePooling1D())\n",
    "model1.add(keras.layers.Dense(16, activation=tf.nn.relu))\n",
    "model1.add(keras.layers.Dense(1, activation=tf.nn.sigmoid))\n",
    "print(model1.summary())"
   ]
  },
  {
   "cell_type": "code",
   "execution_count": 62,
   "metadata": {},
   "outputs": [],
   "source": [
    "# compile network\n",
    "model1.compile(loss='binary_crossentropy', optimizer='adam', metrics=['accuracy'])"
   ]
  },
  {
   "cell_type": "code",
   "execution_count": 63,
   "metadata": {},
   "outputs": [
    {
     "name": "stdout",
     "output_type": "stream",
     "text": [
      "WARNING:tensorflow:From C:\\Users\\Hassa\\.conda\\envs\\gputest1\\lib\\site-packages\\tensorflow\\python\\ops\\math_ops.py:3066: to_int32 (from tensorflow.python.ops.math_ops) is deprecated and will be removed in a future version.\n",
      "Instructions for updating:\n",
      "Use tf.cast instead.\n",
      "Train on 13652 samples, validate on 3862 samples\n",
      "Epoch 1/10\n",
      " - 4s - loss: 0.6831 - acc: 0.5923 - val_loss: 0.6674 - val_acc: 0.6507\n",
      "Epoch 2/10\n",
      " - 2s - loss: 0.6477 - acc: 0.6717 - val_loss: 0.6283 - val_acc: 0.6779\n",
      "Epoch 3/10\n",
      " - 2s - loss: 0.6071 - acc: 0.7059 - val_loss: 0.5890 - val_acc: 0.7160\n",
      "Epoch 4/10\n",
      " - 2s - loss: 0.5712 - acc: 0.7241 - val_loss: 0.5577 - val_acc: 0.7333\n",
      "Epoch 5/10\n",
      " - 2s - loss: 0.5426 - acc: 0.7367 - val_loss: 0.5334 - val_acc: 0.7333\n",
      "Epoch 6/10\n",
      " - 2s - loss: 0.5195 - acc: 0.7486 - val_loss: 0.5130 - val_acc: 0.7439\n",
      "Epoch 7/10\n",
      " - 2s - loss: 0.5012 - acc: 0.7622 - val_loss: 0.4975 - val_acc: 0.7607\n",
      "Epoch 8/10\n",
      " - 2s - loss: 0.4852 - acc: 0.7741 - val_loss: 0.4830 - val_acc: 0.7721\n",
      "Epoch 9/10\n",
      " - 2s - loss: 0.4724 - acc: 0.7830 - val_loss: 0.4711 - val_acc: 0.7802\n",
      "Epoch 10/10\n",
      " - 2s - loss: 0.4600 - acc: 0.7897 - val_loss: 0.4609 - val_acc: 0.7859\n"
     ]
    },
    {
     "data": {
      "text/plain": [
       "<keras.callbacks.History at 0x27125733be0>"
      ]
     },
     "execution_count": 63,
     "metadata": {},
     "output_type": "execute_result"
    }
   ],
   "source": [
    "# train the model\n",
    "model1.fit(x_train, y_train, epochs=10, validation_data=(x_val, y_val), verbose=2)"
   ]
  },
  {
   "cell_type": "code",
   "execution_count": 64,
   "metadata": {},
   "outputs": [
    {
     "name": "stdout",
     "output_type": "stream",
     "text": [
      "1990/1990 [==============================] - 0s 48us/step\n"
     ]
    },
    {
     "data": {
      "text/plain": [
       "0.7738693467935726"
      ]
     },
     "execution_count": 64,
     "metadata": {},
     "output_type": "execute_result"
    }
   ],
   "source": [
    "# evaluate the model on test set\n",
    "model1.evaluate(x_test, y_test)[1]"
   ]
  },
  {
   "cell_type": "code",
   "execution_count": 67,
   "metadata": {},
   "outputs": [
    {
     "data": {
      "image/png": "[encoded data removed]",
      "text/plain": [
       "<Figure size 432x288 with 1 Axes>"
      ]
     },
     "metadata": {
      "needs_background": "light"
     },
     "output_type": "display_data"
    }
   ],
   "source": [
    "import matplotlib.pyplot as plt\n",
    "\n",
    "acc = model1.history.history['acc']\n",
    "val_acc = model1.history.history['val_acc']\n",
    "loss = model1.history.history['loss']\n",
    "val_loss = model1.history.history['val_loss']\n",
    "\n",
    "epochs = range(1, len(acc) + 1)\n",
    "\n",
    "# \"bo\" is for \"blue dot\"\n",
    "plt.plot(epochs, loss, 'bo', label='Training loss')\n",
    "# b is for \"solid blue line\"\n",
    "plt.plot(epochs, val_loss, 'b', label='Validation loss')\n",
    "plt.title('Training and validation loss')\n",
    "plt.xlabel('Epochs')\n",
    "plt.ylabel('Loss')\n",
    "plt.legend()\n",
    "\n",
    "plt.show()"
   ]
  },
  {
   "cell_type": "code",
   "execution_count": 68,
   "metadata": {},
   "outputs": [
    {
     "data": {
      "image/png": "[encoded data removed]",
      "text/plain": [
       "<Figure size 432x288 with 1 Axes>"
      ]
     },
     "metadata": {
      "needs_background": "light"
     },
     "output_type": "display_data"
    }
   ],
   "source": [
    "plt.clf()   # clear figure\n",
    "\n",
    "plt.plot(epochs, acc, 'bo', label='Training acc')\n",
    "plt.plot(epochs, val_acc, 'b', label='Validation acc')\n",
    "plt.title('Training and validation accuracy')\n",
    "plt.xlabel('Epochs')\n",
    "plt.ylabel('Accuracy')\n",
    "plt.legend()\n",
    "\n",
    "plt.show()"
   ]
  },
  {
   "cell_type": "markdown",
   "metadata": {},
   "source": [
    "### Model 2: Convolutional Neural Network with max pooling (3 hidden layers)\n",
    "#### Case 1: Normal"
   ]
  },
  {
   "cell_type": "code",
   "execution_count": 69,
   "metadata": {},
   "outputs": [
    {
     "name": "stdout",
     "output_type": "stream",
     "text": [
      "_________________________________________________________________\n",
      "Layer (type)                 Output Shape              Param #   \n",
      "=================================================================\n",
      "embedding_2 (Embedding)      (None, 153, 300)          4569900   \n",
      "_________________________________________________________________\n",
      "conv1d_1 (Conv1D)            (None, 151, 128)          115328    \n",
      "_________________________________________________________________\n",
      "max_pooling1d_1 (MaxPooling1 (None, 75, 128)           0         \n",
      "_________________________________________________________________\n",
      "flatten_1 (Flatten)          (None, 9600)              0         \n",
      "_________________________________________________________________\n",
      "dense_3 (Dense)              (None, 1)                 9601      \n",
      "=================================================================\n",
      "Total params: 4,694,829\n",
      "Trainable params: 124,929\n",
      "Non-trainable params: 4,569,900\n",
      "_________________________________________________________________\n",
      "None\n",
      "Train on 13652 samples, validate on 3862 samples\n",
      "Epoch 1/10\n",
      " - 6s - loss: 0.2826 - acc: 0.8842 - val_loss: 0.1029 - val_acc: 0.9599\n",
      "Epoch 2/10\n",
      " - 3s - loss: 0.0731 - acc: 0.9659 - val_loss: 0.0743 - val_acc: 0.9609\n",
      "Epoch 3/10\n",
      " - 3s - loss: 0.0584 - acc: 0.9686 - val_loss: 0.0685 - val_acc: 0.9622\n",
      "Epoch 4/10\n",
      " - 3s - loss: 0.0551 - acc: 0.9689 - val_loss: 0.0685 - val_acc: 0.9622\n",
      "Epoch 5/10\n",
      " - 3s - loss: 0.0548 - acc: 0.9685 - val_loss: 0.0664 - val_acc: 0.9625\n",
      "Epoch 6/10\n",
      " - 3s - loss: 0.0540 - acc: 0.9689 - val_loss: 0.0727 - val_acc: 0.9596\n",
      "Epoch 7/10\n",
      " - 3s - loss: 0.0541 - acc: 0.9686 - val_loss: 0.0670 - val_acc: 0.9617\n",
      "Epoch 8/10\n",
      " - 3s - loss: 0.0540 - acc: 0.9688 - val_loss: 0.0683 - val_acc: 0.9612\n",
      "Epoch 9/10\n",
      " - 3s - loss: 0.0536 - acc: 0.9686 - val_loss: 0.0653 - val_acc: 0.9625\n",
      "Epoch 10/10\n",
      " - 3s - loss: 0.0543 - acc: 0.9683 - val_loss: 0.0705 - val_acc: 0.9586\n"
     ]
    },
    {
     "data": {
      "text/plain": [
       "<keras.callbacks.History at 0x27356286278>"
      ]
     },
     "execution_count": 69,
     "metadata": {},
     "output_type": "execute_result"
    }
   ],
   "source": [
    "from keras.models import Sequential\n",
    "from keras.layers import Dense, Embedding, Flatten\n",
    "from keras.layers.convolutional import Conv1D\n",
    "from keras.layers.convolutional import MaxPooling1D\n",
    "from keras.initializers import Constant\n",
    "\n",
    "\n",
    "# define model\n",
    "model2 = Sequential()\n",
    "# load pre-trained word embeddings into an Embedding layer\n",
    "# note that we set trainable = False so as to keep the embeddings fixed\n",
    "embedding_layer = Embedding(num_words,\n",
    "                            EMBEDDING_DIM,\n",
    "                            embeddings_initializer=Constant(embedding_matrix),\n",
    "                            input_length=max_length,\n",
    "                            trainable=False)\n",
    "\n",
    "model2.add(embedding_layer)\n",
    "model2.add(Conv1D(filters=128, kernel_size=3, activation='relu'))\n",
    "model2.add(MaxPooling1D(pool_size=2))\n",
    "model2.add(Flatten())\n",
    "model2.add(Dense(1, activation='sigmoid')) #CNN colliding with ANN\n",
    "print(model2.summary())\n",
    "\n",
    "# compile network\n",
    "model2.compile(loss='binary_crossentropy', optimizer='adam', metrics=['accuracy'])\n",
    "# train the model\n",
    "model2.fit(x_train, y_train, epochs=10, validation_data=(x_val, y_val), verbose=2)"
   ]
  },
  {
   "cell_type": "code",
   "execution_count": 70,
   "metadata": {},
   "outputs": [
    {
     "name": "stdout",
     "output_type": "stream",
     "text": [
      "1990/1990 [==============================] - 0s 90us/step\n"
     ]
    },
    {
     "data": {
      "text/plain": [
       "0.9618090452261306"
      ]
     },
     "execution_count": 70,
     "metadata": {},
     "output_type": "execute_result"
    }
   ],
   "source": [
    "# evaluate the model on test set\n",
    "model2.evaluate(x_test, y_test)[1]"
   ]
  },
  {
   "cell_type": "code",
   "execution_count": 71,
   "metadata": {},
   "outputs": [
    {
     "data": {
      "image/png": "[encoded data removed]",
      "text/plain": [
       "<Figure size 432x288 with 1 Axes>"
      ]
     },
     "metadata": {
      "needs_background": "light"
     },
     "output_type": "display_data"
    }
   ],
   "source": [
    "acc = model2.history.history['acc']\n",
    "val_acc = model2.history.history['val_acc']\n",
    "loss = model2.history.history['loss']\n",
    "val_loss = model2.history.history['val_loss']\n",
    "\n",
    "epochs = range(1, len(acc) + 1)\n",
    "\n",
    "# \"bo\" is for \"blue dot\"\n",
    "plt.plot(epochs, loss, 'bo', label='Training loss')\n",
    "# b is for \"solid blue line\"\n",
    "plt.plot(epochs, val_loss, 'b', label='Validation loss')\n",
    "plt.title('Training and validation loss')\n",
    "plt.xlabel('Epochs')\n",
    "plt.ylabel('Loss')\n",
    "plt.legend()\n",
    "\n",
    "plt.show()"
   ]
  },
  {
   "cell_type": "code",
   "execution_count": 72,
   "metadata": {},
   "outputs": [
    {
     "data": {
      "image/png": "[encoded data removed]",
      "text/plain": [
       "<Figure size 432x288 with 1 Axes>"
      ]
     },
     "metadata": {
      "needs_background": "light"
     },
     "output_type": "display_data"
    }
   ],
   "source": [
    "plt.clf()   # clear figure\n",
    "\n",
    "plt.plot(epochs, acc, 'bo', label='Training acc')\n",
    "plt.plot(epochs, val_acc, 'b', label='Validation acc')\n",
    "plt.title('Training and validation accuracy')\n",
    "plt.xlabel('Epochs')\n",
    "plt.ylabel('Accuracy')\n",
    "plt.legend()\n",
    "\n",
    "plt.show()"
   ]
  },
  {
   "cell_type": "markdown",
   "metadata": {},
   "source": [
    "### Model 3: RNN's GRU \n",
    "The time to train a GRU is less than LSTM network."
   ]
  },
  {
   "cell_type": "markdown",
   "metadata": {},
   "source": [
    "#### Case 1: Normal"
   ]
  },
  {
   "cell_type": "code",
   "execution_count": 73,
   "metadata": {},
   "outputs": [
    {
     "name": "stdout",
     "output_type": "stream",
     "text": [
      "Summary of the built model...\n",
      "_________________________________________________________________\n",
      "Layer (type)                 Output Shape              Param #   \n",
      "=================================================================\n",
      "embedding_3 (Embedding)      (None, 153, 300)          4569900   \n",
      "_________________________________________________________________\n",
      "cu_dnngru_1 (CuDNNGRU)       (None, 32)                32064     \n",
      "_________________________________________________________________\n",
      "dense_4 (Dense)              (None, 1)                 33        \n",
      "=================================================================\n",
      "Total params: 4,601,997\n",
      "Trainable params: 32,097\n",
      "Non-trainable params: 4,569,900\n",
      "_________________________________________________________________\n",
      "None\n"
     ]
    }
   ],
   "source": [
    "from keras.models import Sequential\n",
    "from keras.layers import Dense, Embedding, CuDNNLSTM, CuDNNGRU\n",
    "from keras.layers.embeddings import Embedding\n",
    "from keras.initializers import Constant\n",
    "\n",
    "\n",
    "# From Keras official website\n",
    "# dropout: Float between 0 and 1. Fraction of the units to drop for the linear transformation of the INPUTS.\n",
    "# recurrent_dropout: Float between 0 and 1. Fraction of the units to drop for the linear transformation of the RECURRENT STATE.\n",
    "\n",
    "\n",
    "# define model\n",
    "model3 = Sequential()\n",
    "embedding_layer = Embedding(num_words,\n",
    "                            EMBEDDING_DIM,\n",
    "                            embeddings_initializer=Constant(embedding_matrix),\n",
    "                            input_length=max_length,\n",
    "                            trainable=False)\n",
    "model3.add(embedding_layer)\n",
    "#model3.add(GRU(units=32,  dropout=0.2, recurrent_dropout=0.2))\n",
    "model3.add(CuDNNGRU(units=32))\n",
    "model3.add(Dense(1, activation='sigmoid'))\n",
    "\n",
    "# try using different optimizers and different optimizer configs\n",
    "model3.compile(loss='binary_crossentropy', optimizer='adam', metrics=['accuracy'])\n",
    "\n",
    "print('Summary of the built model...')\n",
    "print(model3.summary())"
   ]
  },
  {
   "cell_type": "code",
   "execution_count": 74,
   "metadata": {},
   "outputs": [
    {
     "name": "stdout",
     "output_type": "stream",
     "text": [
      "Train...\n",
      "Train on 13652 samples, validate on 3862 samples\n",
      "Epoch 1/10\n",
      " - 6s - loss: 0.4013 - acc: 0.8210 - val_loss: 0.1873 - val_acc: 0.9340\n",
      "Epoch 2/10\n",
      " - 4s - loss: 0.1213 - acc: 0.9614 - val_loss: 0.1229 - val_acc: 0.9557\n",
      "Epoch 3/10\n",
      " - 4s - loss: 0.0628 - acc: 0.9793 - val_loss: 0.1437 - val_acc: 0.9511\n",
      "Epoch 4/10\n",
      " - 4s - loss: 0.0457 - acc: 0.9828 - val_loss: 0.0837 - val_acc: 0.9736\n",
      "Epoch 5/10\n",
      " - 4s - loss: 0.0298 - acc: 0.9884 - val_loss: 0.0551 - val_acc: 0.9790\n",
      "Epoch 6/10\n",
      " - 4s - loss: 0.0238 - acc: 0.9892 - val_loss: 0.0565 - val_acc: 0.9777\n",
      "Epoch 7/10\n",
      " - 4s - loss: 0.0229 - acc: 0.9884 - val_loss: 0.0518 - val_acc: 0.9806\n",
      "Epoch 8/10\n",
      " - 4s - loss: 0.0188 - acc: 0.9903 - val_loss: 0.0549 - val_acc: 0.9811\n",
      "Epoch 9/10\n",
      " - 4s - loss: 0.0244 - acc: 0.9892 - val_loss: 0.0524 - val_acc: 0.9808\n",
      "Epoch 10/10\n",
      " - 4s - loss: 0.0181 - acc: 0.9899 - val_loss: 0.0441 - val_acc: 0.9829\n"
     ]
    },
    {
     "data": {
      "text/plain": [
       "<keras.callbacks.History at 0x2735622ce80>"
      ]
     },
     "execution_count": 74,
     "metadata": {},
     "output_type": "execute_result"
    }
   ],
   "source": [
    "print('Train...')\n",
    "model3.fit(x_train, y_train, epochs=10, validation_data=(x_val, y_val), verbose=2)"
   ]
  },
  {
   "cell_type": "code",
   "execution_count": 75,
   "metadata": {},
   "outputs": [
    {
     "name": "stdout",
     "output_type": "stream",
     "text": [
      "1990/1990 [==============================] - 0s 130us/step\n"
     ]
    },
    {
     "data": {
      "text/plain": [
       "0.9809045225531612"
      ]
     },
     "execution_count": 75,
     "metadata": {},
     "output_type": "execute_result"
    }
   ],
   "source": [
    "# --> Didn't generalize well.\n",
    "# evaluate the model on test set\n",
    "model3.evaluate(x_test, y_test)[1]"
   ]
  },
  {
   "cell_type": "code",
   "execution_count": 76,
   "metadata": {},
   "outputs": [
    {
     "data": {
      "image/png": "[encoded data removed]",
      "text/plain": [
       "<Figure size 432x288 with 1 Axes>"
      ]
     },
     "metadata": {
      "needs_background": "light"
     },
     "output_type": "display_data"
    }
   ],
   "source": [
    "loss = model3.history.history['loss']\n",
    "val_loss = model3.history.history['val_loss']\n",
    "\n",
    "epochs = range(1, len(acc) + 1)\n",
    "\n",
    "# \"bo\" is for \"blue dot\"\n",
    "plt.plot(epochs, loss, 'bo', label='Training loss')\n",
    "# b is for \"solid blue line\"\n",
    "plt.plot(epochs, val_loss, 'b', label='Validation loss')\n",
    "plt.title('Training and validation loss')\n",
    "plt.xlabel('Epochs')\n",
    "plt.ylabel('Loss')\n",
    "plt.legend()\n",
    "\n",
    "plt.show()"
   ]
  },
  {
   "cell_type": "code",
   "execution_count": 77,
   "metadata": {},
   "outputs": [
    {
     "data": {
      "image/png": "[encoded data removed]",
      "text/plain": [
       "<Figure size 432x288 with 1 Axes>"
      ]
     },
     "metadata": {
      "needs_background": "light"
     },
     "output_type": "display_data"
    }
   ],
   "source": [
    "acc = model3.history.history['acc']\n",
    "val_acc =model3.history.history['val_acc']\n",
    "\n",
    "plt.clf()   # clear figure\n",
    "\n",
    "plt.plot(epochs, acc, 'bo', label='Training acc')\n",
    "plt.plot(epochs, val_acc, 'b', label='Validation acc')\n",
    "plt.title('Training and validation accuracy')\n",
    "plt.xlabel('Epochs')\n",
    "plt.ylabel('Accuracy')\n",
    "plt.legend()\n",
    "\n",
    "plt.show()"
   ]
  },
  {
   "cell_type": "markdown",
   "metadata": {},
   "source": [
    "### Model 4: RNN's LSTM "
   ]
  },
  {
   "cell_type": "markdown",
   "metadata": {},
   "source": [
    "#### Case 1: Normal"
   ]
  },
  {
   "cell_type": "code",
   "execution_count": 78,
   "metadata": {},
   "outputs": [
    {
     "name": "stdout",
     "output_type": "stream",
     "text": [
      "_________________________________________________________________\n",
      "Layer (type)                 Output Shape              Param #   \n",
      "=================================================================\n",
      "embedding_4 (Embedding)      (None, 153, 300)          4569900   \n",
      "_________________________________________________________________\n",
      "cu_dnnlstm_1 (CuDNNLSTM)     (None, 32)                42752     \n",
      "_________________________________________________________________\n",
      "dense_5 (Dense)              (None, 1)                 33        \n",
      "=================================================================\n",
      "Total params: 4,612,685\n",
      "Trainable params: 42,785\n",
      "Non-trainable params: 4,569,900\n",
      "_________________________________________________________________\n",
      "None\n",
      "Train on 13652 samples, validate on 3862 samples\n",
      "Epoch 1/10\n",
      " - 7s - loss: 0.3958 - acc: 0.8216 - val_loss: 0.2169 - val_acc: 0.9195\n",
      "Epoch 2/10\n",
      " - 4s - loss: 0.1531 - acc: 0.9498 - val_loss: 0.1226 - val_acc: 0.9622\n",
      "Epoch 3/10\n",
      " - 4s - loss: 0.0766 - acc: 0.9776 - val_loss: 0.1485 - val_acc: 0.9539\n",
      "Epoch 4/10\n",
      " - 4s - loss: 0.0593 - acc: 0.9811 - val_loss: 0.0655 - val_acc: 0.9770\n",
      "Epoch 5/10\n",
      " - 4s - loss: 0.0381 - acc: 0.9857 - val_loss: 0.0670 - val_acc: 0.9798\n",
      "Epoch 6/10\n",
      " - 4s - loss: 0.0404 - acc: 0.9854 - val_loss: 0.0663 - val_acc: 0.9741\n",
      "Epoch 7/10\n",
      " - 4s - loss: 0.0254 - acc: 0.9898 - val_loss: 0.0465 - val_acc: 0.9803\n",
      "Epoch 8/10\n",
      " - 4s - loss: 0.0214 - acc: 0.9903 - val_loss: 0.0526 - val_acc: 0.9803\n",
      "Epoch 9/10\n",
      " - 4s - loss: 0.0190 - acc: 0.9909 - val_loss: 0.0490 - val_acc: 0.9788\n",
      "Epoch 10/10\n",
      " - 4s - loss: 0.0181 - acc: 0.9908 - val_loss: 0.0460 - val_acc: 0.9834\n"
     ]
    },
    {
     "data": {
      "text/plain": [
       "<keras.callbacks.History at 0x2750d7622e8>"
      ]
     },
     "execution_count": 78,
     "metadata": {},
     "output_type": "execute_result"
    }
   ],
   "source": [
    "# define model\n",
    "model4 = Sequential()\n",
    "# load pre-trained word embeddings into an Embedding layer\n",
    "# note that we set trainable = False so as to keep the embeddings fixed\n",
    "embedding_layer = Embedding(num_words,\n",
    "                            EMBEDDING_DIM,\n",
    "                            embeddings_initializer=Constant(embedding_matrix),\n",
    "                            input_length=max_length,\n",
    "                            trainable=False)\n",
    "\n",
    "model4.add(embedding_layer)\n",
    "model4.add(CuDNNLSTM(32))\n",
    "model4.add(Dense(1, activation='sigmoid'))\n",
    "print(model4.summary())\n",
    "\n",
    "# compile network\n",
    "model4.compile(loss='binary_crossentropy', optimizer='adam', metrics=['accuracy'])\n",
    "\n",
    "# fit the model\n",
    "model4.fit(x_train, y_train, epochs=10, validation_data=(x_val, y_val), verbose=2)"
   ]
  },
  {
   "cell_type": "code",
   "execution_count": 79,
   "metadata": {},
   "outputs": [
    {
     "data": {
      "image/png": "[encoded data removed]",
      "text/plain": [
       "<Figure size 432x288 with 1 Axes>"
      ]
     },
     "metadata": {
      "needs_background": "light"
     },
     "output_type": "display_data"
    }
   ],
   "source": [
    "loss = model4.history.history['loss']\n",
    "val_loss = model4.history.history['val_loss']\n",
    "\n",
    "epochs = range(1, len(acc) + 1)\n",
    "\n",
    "# \"bo\" is for \"blue dot\"\n",
    "plt.plot(epochs, loss, 'bo', label='Training loss')\n",
    "# b is for \"solid blue line\"\n",
    "plt.plot(epochs, val_loss, 'b', label='Validation loss')\n",
    "plt.title('Training and validation loss')\n",
    "plt.xlabel('Epochs')\n",
    "plt.ylabel('Loss')\n",
    "plt.legend()\n",
    "\n",
    "plt.show()"
   ]
  },
  {
   "cell_type": "code",
   "execution_count": 80,
   "metadata": {},
   "outputs": [
    {
     "data": {
      "image/png": "[encoded data removed]",
      "text/plain": [
       "<Figure size 432x288 with 1 Axes>"
      ]
     },
     "metadata": {
      "needs_background": "light"
     },
     "output_type": "display_data"
    }
   ],
   "source": [
    "acc = model4.history.history['acc']\n",
    "val_acc =model4.history.history['val_acc']\n",
    "\n",
    "plt.clf()   # clear figure\n",
    "\n",
    "plt.plot(epochs, acc, 'bo', label='Training acc')\n",
    "plt.plot(epochs, val_acc, 'b', label='Validation acc')\n",
    "plt.title('Training and validation accuracy')\n",
    "plt.xlabel('Epochs')\n",
    "plt.ylabel('Accuracy')\n",
    "plt.legend()\n",
    "\n",
    "plt.show()"
   ]
  },
  {
   "cell_type": "code",
   "execution_count": 81,
   "metadata": {},
   "outputs": [
    {
     "name": "stdout",
     "output_type": "stream",
     "text": [
      "1990/1990 [==============================] - 0s 148us/step\n"
     ]
    },
    {
     "data": {
      "text/plain": [
       "0.9783919597390908"
      ]
     },
     "execution_count": 81,
     "metadata": {},
     "output_type": "execute_result"
    }
   ],
   "source": [
    "# evaluate the model on test set\n",
    "model4.evaluate(x_test, y_test)[1]"
   ]
  },
  {
   "cell_type": "markdown",
   "metadata": {},
   "source": [
    "# Model 1,2,3,4 with maximal regularization"
   ]
  },
  {
   "cell_type": "code",
   "execution_count": 82,
   "metadata": {},
   "outputs": [],
   "source": [
    "import keras\n",
    "import tensorflow as tf\n",
    "from keras.models import Sequential\n",
    "from keras.layers import Dense, Embedding, Flatten\n",
    "from keras.layers.convolutional import Conv1D\n",
    "from keras.layers.convolutional import MaxPooling1D\n",
    "from keras.initializers import Constant\n",
    "\n",
    "from keras.layers import Dense, Embedding, CuDNNLSTM, CuDNNGRU\n",
    "from keras.layers.embeddings import Embedding\n",
    "from keras.initializers import Constant"
   ]
  },
  {
   "cell_type": "code",
   "execution_count": 83,
   "metadata": {},
   "outputs": [],
   "source": [
    "import matplotlib.pyplot as plt"
   ]
  },
  {
   "cell_type": "markdown",
   "metadata": {},
   "source": [
    "### 1. ANN Dropout Layer + l2 in dense layer"
   ]
  },
  {
   "cell_type": "code",
   "execution_count": 124,
   "metadata": {},
   "outputs": [
    {
     "name": "stdout",
     "output_type": "stream",
     "text": [
      "_________________________________________________________________\n",
      "Layer (type)                 Output Shape              Param #   \n",
      "=================================================================\n",
      "embedding_40 (Embedding)     (None, 153, 300)          4569900   \n",
      "_________________________________________________________________\n",
      "global_average_pooling1d_9 ( (None, 300)               0         \n",
      "_________________________________________________________________\n",
      "dense_48 (Dense)             (None, 16)                4816      \n",
      "_________________________________________________________________\n",
      "dropout_12 (Dropout)         (None, 16)                0         \n",
      "_________________________________________________________________\n",
      "dense_49 (Dense)             (None, 1)                 17        \n",
      "=================================================================\n",
      "Total params: 4,574,733\n",
      "Trainable params: 4,833\n",
      "Non-trainable params: 4,569,900\n",
      "_________________________________________________________________\n",
      "None\n",
      "Train on 13652 samples, validate on 3862 samples\n",
      "Epoch 1/10\n",
      " - 14s - loss: 0.8327 - acc: 0.4918 - val_loss: 0.6932 - val_acc: 0.4927\n",
      "Epoch 2/10\n",
      " - 2s - loss: 0.6932 - acc: 0.5026 - val_loss: 0.6932 - val_acc: 0.4927\n",
      "Epoch 3/10\n",
      " - 2s - loss: 0.6932 - acc: 0.4992 - val_loss: 0.6932 - val_acc: 0.4927\n",
      "Epoch 4/10\n",
      " - 2s - loss: 0.6932 - acc: 0.5026 - val_loss: 0.6932 - val_acc: 0.4927\n",
      "Epoch 5/10\n",
      " - 2s - loss: 0.6932 - acc: 0.4996 - val_loss: 0.6933 - val_acc: 0.4927\n",
      "Epoch 6/10\n",
      " - 2s - loss: 0.6932 - acc: 0.4998 - val_loss: 0.6933 - val_acc: 0.4927\n",
      "Epoch 7/10\n",
      " - 2s - loss: 0.6932 - acc: 0.5026 - val_loss: 0.6933 - val_acc: 0.4927\n",
      "Epoch 8/10\n",
      " - 2s - loss: 0.6932 - acc: 0.5026 - val_loss: 0.6932 - val_acc: 0.4927\n",
      "Epoch 9/10\n",
      " - 2s - loss: 0.6932 - acc: 0.5026 - val_loss: 0.6932 - val_acc: 0.4927\n",
      "Epoch 10/10\n",
      " - 2s - loss: 0.6932 - acc: 0.5026 - val_loss: 0.6932 - val_acc: 0.4927\n"
     ]
    },
    {
     "data": {
      "image/png": "[encoded data removed]",
      "text/plain": [
       "<Figure size 432x288 with 1 Axes>"
      ]
     },
     "metadata": {
      "needs_background": "light"
     },
     "output_type": "display_data"
    },
    {
     "data": {
      "image/png": "[encoded data removed]",
      "text/plain": [
       "<Figure size 432x288 with 1 Axes>"
      ]
     },
     "metadata": {
      "needs_background": "light"
     },
     "output_type": "display_data"
    }
   ],
   "source": [
    "\n",
    "# define model\n",
    "model1_drop_l1 = Sequential()\n",
    "# load pre-trained word embeddings into an Embedding layer\n",
    "# note that we set trainable = False so as to keep the embeddings fixed\n",
    "embedding_layer = Embedding(num_words,\n",
    "                            EMBEDDING_DIM,\n",
    "                            embeddings_initializer=Constant(embedding_matrix), # the one we filled by hand and already learnt\n",
    "                            input_length=max_length,\n",
    "                            trainable=False)\n",
    "\n",
    "model1_drop_l1.add(embedding_layer) # Output is 3D tensor with shape: (batch_size, sequence_length, output_dim).\n",
    "# We need GAP to not get an error: ValueError: Error when checking target: expected dense_8 to have\n",
    "# 3 dimensions, but got array with shape (644, 1)\n",
    "model1_drop_l1.add(keras.layers.GlobalAveragePooling1D()) #It flattens as well.\n",
    "model1_drop_l1.add(keras.layers.Dense(16, kernel_regularizer=keras.regularizers.l2(0.05) ,activation=tf.nn.relu))\n",
    "model1_drop_l1.add(keras.layers.Dropout(0.5))\n",
    "model1_drop_l1.add(keras.layers.Dense(1, activation=tf.nn.sigmoid))\n",
    "print(model1_drop_l1.summary())\n",
    "\n",
    "# compile network\n",
    "model1_drop_l1.compile(loss='binary_crossentropy', optimizer='adam', metrics=['accuracy'])\n",
    "# train the model\n",
    "model1_drop_l1.fit(x_train, y_train, epochs=10, validation_data=(x_val, y_val), verbose=2)\n",
    "\n",
    "acc = model1_drop_l1.history.history['acc']\n",
    "val_acc = model1_drop_l1.history.history['val_acc']\n",
    "loss = model1_drop_l1.history.history['loss']\n",
    "val_loss = model1_drop_l1.history.history['val_loss']\n",
    "\n",
    "epochs = range(1, len(acc) + 1)\n",
    "\n",
    "# \"bo\" is for \"blue dot\"\n",
    "plt.plot(epochs, loss, 'bo', label='Training loss')\n",
    "# b is for \"solid blue line\"\n",
    "plt.plot(epochs, val_loss, 'b', label='Validation loss')\n",
    "plt.title('Training and validation loss')\n",
    "plt.xlabel('Epochs')\n",
    "plt.ylabel('Loss')\n",
    "plt.legend()\n",
    "\n",
    "plt.show()\n",
    "\n",
    "plt.clf()   # clear figure\n",
    "\n",
    "plt.plot(epochs, acc, 'bo', label='Training acc')\n",
    "plt.plot(epochs, val_acc, 'b', label='Validation acc')\n",
    "plt.title('Training and validation accuracy')\n",
    "plt.xlabel('Epochs')\n",
    "plt.ylabel('Accuracy')\n",
    "plt.legend()\n",
    "\n",
    "plt.show()"
   ]
  },
  {
   "cell_type": "code",
   "execution_count": 118,
   "metadata": {},
   "outputs": [
    {
     "name": "stdout",
     "output_type": "stream",
     "text": [
      "1990/1990 [==============================] - 0s 77us/step\n"
     ]
    },
    {
     "data": {
      "text/plain": [
       "0.49648241209025357"
      ]
     },
     "execution_count": 118,
     "metadata": {},
     "output_type": "execute_result"
    }
   ],
   "source": [
    "# evaluate the model on test set\n",
    "model1_drop_l1.evaluate(x_test, y_test)[1]"
   ]
  },
  {
   "cell_type": "markdown",
   "metadata": {},
   "source": [
    "### 2. CNN Case 6: Dropout Layer + l2 in CNN layer"
   ]
  },
  {
   "cell_type": "code",
   "execution_count": 113,
   "metadata": {},
   "outputs": [
    {
     "name": "stdout",
     "output_type": "stream",
     "text": [
      "_________________________________________________________________\n",
      "Layer (type)                 Output Shape              Param #   \n",
      "=================================================================\n",
      "embedding_30 (Embedding)     (None, 153, 300)          4569900   \n",
      "_________________________________________________________________\n",
      "conv1d_5 (Conv1D)            (None, 151, 128)          115328    \n",
      "_________________________________________________________________\n",
      "max_pooling1d_5 (MaxPooling1 (None, 75, 128)           0         \n",
      "_________________________________________________________________\n",
      "flatten_5 (Flatten)          (None, 9600)              0         \n",
      "_________________________________________________________________\n",
      "dropout_8 (Dropout)          (None, 9600)              0         \n",
      "_________________________________________________________________\n",
      "dense_36 (Dense)             (None, 1)                 9601      \n",
      "=================================================================\n",
      "Total params: 4,694,829\n",
      "Trainable params: 124,929\n",
      "Non-trainable params: 4,569,900\n",
      "_________________________________________________________________\n",
      "None\n",
      "Train on 13652 samples, validate on 3862 samples\n",
      "Epoch 1/10\n",
      " - 12s - loss: 1.1040 - acc: 0.6204 - val_loss: 0.7013 - val_acc: 0.6592\n",
      "Epoch 2/10\n",
      " - 3s - loss: 0.6826 - acc: 0.7689 - val_loss: 0.6540 - val_acc: 0.8206\n",
      "Epoch 3/10\n",
      " - 3s - loss: 0.6470 - acc: 0.8194 - val_loss: 0.6342 - val_acc: 0.8107\n",
      "Epoch 4/10\n",
      " - 3s - loss: 0.6086 - acc: 0.8467 - val_loss: 0.5745 - val_acc: 0.8679\n",
      "Epoch 5/10\n",
      " - 3s - loss: 0.5765 - acc: 0.8654 - val_loss: 0.5352 - val_acc: 0.9034\n",
      "Epoch 6/10\n",
      " - 3s - loss: 0.5487 - acc: 0.8813 - val_loss: 0.5363 - val_acc: 0.8830\n",
      "Epoch 7/10\n",
      " - 3s - loss: 0.5469 - acc: 0.8855 - val_loss: 0.5046 - val_acc: 0.9262\n",
      "Epoch 8/10\n",
      " - 3s - loss: 0.5284 - acc: 0.8909 - val_loss: 0.5038 - val_acc: 0.9138\n",
      "Epoch 9/10\n",
      " - 3s - loss: 0.5123 - acc: 0.8967 - val_loss: 0.5356 - val_acc: 0.8856\n",
      "Epoch 10/10\n",
      " - 3s - loss: 0.5071 - acc: 0.9024 - val_loss: 0.4650 - val_acc: 0.9221\n"
     ]
    },
    {
     "data": {
      "image/png": "[encoded data removed]",
      "text/plain": [
       "<Figure size 432x288 with 1 Axes>"
      ]
     },
     "metadata": {
      "needs_background": "light"
     },
     "output_type": "display_data"
    },
    {
     "data": {
      "image/png": "[encoded data removed]",
      "text/plain": [
       "<Figure size 432x288 with 1 Axes>"
      ]
     },
     "metadata": {
      "needs_background": "light"
     },
     "output_type": "display_data"
    },
    {
     "name": "stdout",
     "output_type": "stream",
     "text": [
      "1990/1990 [==============================] - 0s 109us/step\n"
     ]
    },
    {
     "data": {
      "text/plain": [
       "0.9090452260707491"
      ]
     },
     "execution_count": 113,
     "metadata": {},
     "output_type": "execute_result"
    }
   ],
   "source": [
    "# define model\n",
    "model2_drop_l1 = Sequential()\n",
    "# load pre-trained word embeddings into an Embedding layer\n",
    "# note that we set trainable = False so as to keep the embeddings fixed\n",
    "embedding_layer = Embedding(num_words,\n",
    "                            EMBEDDING_DIM,\n",
    "                            embeddings_initializer=Constant(embedding_matrix),\n",
    "                            input_length=max_length,\n",
    "                            trainable=False)\n",
    "#Dropout in conv layer may lose some important features but we can apply regulizers\n",
    "model2_drop_l1.add(embedding_layer)\n",
    "model2_drop_l1.add(Conv1D(filters=128, kernel_size=3, kernel_regularizer=keras.regularizers.l2(0.05), activation='relu'))\n",
    "model2_drop_l1.add(MaxPooling1D(pool_size=2))\n",
    "model2_drop_l1.add(Flatten())\n",
    "model2_drop_l1.add(keras.layers.Dropout(0.5))\n",
    "model2_drop_l1.add(Dense(1, activation='sigmoid')) #CNN colliding with ANN\n",
    "print(model2_drop_l1.summary())\n",
    "\n",
    "# compile network\n",
    "model2_drop_l1.compile(loss='binary_crossentropy', optimizer='adam', metrics=['accuracy'])\n",
    "# train the model\n",
    "model2_drop_l1.fit(x_train, y_train, epochs=10, validation_data=(x_val, y_val), verbose=2)\n",
    "\n",
    "\n",
    "loss = model2_drop_l1.history.history['loss']\n",
    "val_loss = model2_drop_l1.history.history['val_loss']\n",
    "\n",
    "epochs = range(1, len(acc) + 1)\n",
    "\n",
    "# \"bo\" is for \"blue dot\"\n",
    "plt.plot(epochs, loss, 'bo', label='Training loss')\n",
    "# b is for \"solid blue line\"\n",
    "plt.plot(epochs, val_loss, 'b', label='Validation loss')\n",
    "plt.title('Training and validation loss')\n",
    "plt.xlabel('Epochs')\n",
    "plt.ylabel('Loss')\n",
    "plt.legend()\n",
    "\n",
    "plt.show()\n",
    "\n",
    "acc = model2_drop_l1.history.history['acc']\n",
    "val_acc =model2_drop_l1.history.history['val_acc']\n",
    "\n",
    "plt.clf()   # clear figure\n",
    "\n",
    "plt.plot(epochs, acc, 'bo', label='Training acc')\n",
    "plt.plot(epochs, val_acc, 'b', label='Validation acc')\n",
    "plt.title('Training and validation accuracy')\n",
    "plt.xlabel('Epochs')\n",
    "plt.ylabel('Accuracy')\n",
    "plt.legend()\n",
    "\n",
    "plt.show()\n",
    "\n",
    "# evaluate the model on test set\n",
    "model2_drop_l1.evaluate(x_test, y_test)[1]"
   ]
  },
  {
   "cell_type": "markdown",
   "metadata": {},
   "source": [
    "### 3. GRU Dropout and recurrent dropout in the GRU layer with L2 regulizer in GRU Layer"
   ]
  },
  {
   "cell_type": "code",
   "execution_count": 114,
   "metadata": {},
   "outputs": [
    {
     "name": "stdout",
     "output_type": "stream",
     "text": [
      "Summary of the built model...\n",
      "_________________________________________________________________\n",
      "Layer (type)                 Output Shape              Param #   \n",
      "=================================================================\n",
      "embedding_31 (Embedding)     (None, 153, 300)          4569900   \n",
      "_________________________________________________________________\n",
      "cu_dnngru_3 (CuDNNGRU)       (None, 32)                32064     \n",
      "_________________________________________________________________\n",
      "dense_37 (Dense)             (None, 1)                 33        \n",
      "=================================================================\n",
      "Total params: 4,601,997\n",
      "Trainable params: 32,097\n",
      "Non-trainable params: 4,569,900\n",
      "_________________________________________________________________\n",
      "None\n",
      "Train...\n",
      "Train on 13652 samples, validate on 3862 samples\n",
      "Epoch 1/10\n",
      " - 14s - loss: 1.5367 - acc: 0.6570 - val_loss: 0.6657 - val_acc: 0.6787\n",
      "Epoch 2/10\n",
      " - 4s - loss: 0.6411 - acc: 0.7159 - val_loss: 0.6516 - val_acc: 0.6714\n",
      "Epoch 3/10\n",
      " - 4s - loss: 0.6054 - acc: 0.7486 - val_loss: 0.5831 - val_acc: 0.7848\n",
      "Epoch 4/10\n",
      " - 5s - loss: 0.5631 - acc: 0.8037 - val_loss: 0.5403 - val_acc: 0.8307\n",
      "Epoch 5/10\n",
      " - 4s - loss: 0.5218 - acc: 0.8421 - val_loss: 0.5097 - val_acc: 0.8475\n",
      "Epoch 6/10\n",
      " - 4s - loss: 0.4931 - acc: 0.8565 - val_loss: 0.4895 - val_acc: 0.8534\n",
      "Epoch 7/10\n",
      " - 4s - loss: 0.4716 - acc: 0.8684 - val_loss: 0.4765 - val_acc: 0.8700\n",
      "Epoch 8/10\n",
      " - 4s - loss: 0.4523 - acc: 0.8846 - val_loss: 0.4759 - val_acc: 0.8493\n",
      "Epoch 9/10\n",
      " - 4s - loss: 0.4329 - acc: 0.9006 - val_loss: 0.4246 - val_acc: 0.9096\n",
      "Epoch 10/10\n",
      " - 4s - loss: 0.4238 - acc: 0.9054 - val_loss: 0.4567 - val_acc: 0.8861\n"
     ]
    },
    {
     "data": {
      "image/png": "[encoded data removed]",
      "text/plain": [
       "<Figure size 432x288 with 1 Axes>"
      ]
     },
     "metadata": {
      "needs_background": "light"
     },
     "output_type": "display_data"
    },
    {
     "data": {
      "image/png": "[encoded data removed]",
      "text/plain": [
       "<Figure size 432x288 with 1 Axes>"
      ]
     },
     "metadata": {
      "needs_background": "light"
     },
     "output_type": "display_data"
    },
    {
     "name": "stdout",
     "output_type": "stream",
     "text": [
      "1990/1990 [==============================] - 0s 139us/step\n"
     ]
    },
    {
     "data": {
      "text/plain": [
       "0.8839195979300456"
      ]
     },
     "execution_count": 114,
     "metadata": {},
     "output_type": "execute_result"
    }
   ],
   "source": [
    "# define model\n",
    "model3_drop_recdrop_l1 = Sequential()\n",
    "embedding_layer = Embedding(num_words,\n",
    "                            EMBEDDING_DIM,\n",
    "                            embeddings_initializer=Constant(embedding_matrix),\n",
    "                            input_length=max_length,\n",
    "                            trainable=False)\n",
    "model3_drop_recdrop_l1.add(embedding_layer)\n",
    "#model3_drop_recdrop_l1.add(CuDNNGRU(units=32,  dropout=0.2, recurrent_dropout=0.2, kernel_regularizer=keras.regularizers.l1(0.01) ))\n",
    "model3_drop_recdrop_l1.add(CuDNNGRU(units=32, recurrent_regularizer=keras.regularizers.l2(0.05), kernel_regularizer=keras.regularizers.l2(0.05) ))\n",
    "model3_drop_recdrop_l1.add(Dense(1, activation='sigmoid'))\n",
    "\n",
    "# try using different optimizers and different optimizer configs\n",
    "model3_drop_recdrop_l1.compile(loss='binary_crossentropy', optimizer='adam', metrics=['accuracy'])\n",
    "\n",
    "print('Summary of the built model...')\n",
    "print(model3_drop_recdrop_l1.summary())\n",
    "\n",
    "print('Train...')\n",
    "model3_drop_recdrop_l1.fit(x_train, y_train, epochs=10, validation_data=(x_val, y_val), verbose=2)\n",
    "\n",
    "\n",
    "loss = model3_drop_recdrop_l1.history.history['loss']\n",
    "val_loss = model3_drop_recdrop_l1.history.history['val_loss']\n",
    "\n",
    "epochs = range(1, len(acc) + 1)\n",
    "\n",
    "# \"bo\" is for \"blue dot\"\n",
    "plt.plot(epochs, loss, 'bo', label='Training loss')\n",
    "# b is for \"solid blue line\"\n",
    "plt.plot(epochs, val_loss, 'b', label='Validation loss')\n",
    "plt.title('Training and validation loss')\n",
    "plt.xlabel('Epochs')\n",
    "plt.ylabel('Loss')\n",
    "plt.legend()\n",
    "\n",
    "plt.show()\n",
    "\n",
    "acc = model3_drop_recdrop_l1.history.history['acc']\n",
    "val_acc =model3_drop_recdrop_l1.history.history['val_acc']\n",
    "\n",
    "plt.clf()   # clear figure\n",
    "\n",
    "plt.plot(epochs, acc, 'bo', label='Training acc')\n",
    "plt.plot(epochs, val_acc, 'b', label='Validation acc')\n",
    "plt.title('Training and validation accuracy')\n",
    "plt.xlabel('Epochs')\n",
    "plt.ylabel('Accuracy')\n",
    "plt.legend()\n",
    "\n",
    "plt.show()\n",
    "\n",
    "# evaluate the model on test set\n",
    "model3_drop_recdrop_l1.evaluate(x_test, y_test)[1]"
   ]
  },
  {
   "cell_type": "markdown",
   "metadata": {},
   "source": [
    "### 4. LSTM Dropout and recurrent dropout in the LSTM layer with L2 regulizer in LSTM Layer"
   ]
  },
  {
   "cell_type": "code",
   "execution_count": 120,
   "metadata": {},
   "outputs": [
    {
     "name": "stdout",
     "output_type": "stream",
     "text": [
      "_________________________________________________________________\n",
      "Layer (type)                 Output Shape              Param #   \n",
      "=================================================================\n",
      "embedding_36 (Embedding)     (None, 153, 300)          4569900   \n",
      "_________________________________________________________________\n",
      "cu_dnnlstm_21 (CuDNNLSTM)    (None, 32)                42752     \n",
      "_________________________________________________________________\n",
      "dense_43 (Dense)             (None, 1)                 33        \n",
      "=================================================================\n",
      "Total params: 4,612,685\n",
      "Trainable params: 42,785\n",
      "Non-trainable params: 4,569,900\n",
      "_________________________________________________________________\n",
      "None\n",
      "Train on 13652 samples, validate on 3862 samples\n",
      "Epoch 1/10\n",
      " - 15s - loss: 1.5997 - acc: 0.6362 - val_loss: 0.6179 - val_acc: 0.7478\n",
      "Epoch 2/10\n",
      " - 5s - loss: 0.5570 - acc: 0.7925 - val_loss: 0.5246 - val_acc: 0.8017\n",
      "Epoch 3/10\n",
      " - 5s - loss: 0.4872 - acc: 0.8458 - val_loss: 0.5196 - val_acc: 0.7830\n",
      "Epoch 4/10\n",
      " - 5s - loss: 0.4417 - acc: 0.8699 - val_loss: 0.4185 - val_acc: 0.8931\n",
      "Epoch 5/10\n",
      " - 5s - loss: 0.4417 - acc: 0.8794 - val_loss: 0.4226 - val_acc: 0.8866\n",
      "Epoch 6/10\n",
      " - 5s - loss: 0.3997 - acc: 0.9018 - val_loss: 0.3911 - val_acc: 0.9037\n",
      "Epoch 7/10\n",
      " - 5s - loss: 0.3752 - acc: 0.9132 - val_loss: 0.3979 - val_acc: 0.8936\n",
      "Epoch 8/10\n",
      " - 5s - loss: 0.3616 - acc: 0.9183 - val_loss: 0.3687 - val_acc: 0.9221\n",
      "Epoch 9/10\n",
      " - 5s - loss: 0.3427 - acc: 0.9202 - val_loss: 0.3500 - val_acc: 0.9231\n",
      "Epoch 10/10\n",
      " - 5s - loss: 0.3321 - acc: 0.9257 - val_loss: 0.3425 - val_acc: 0.9169\n"
     ]
    },
    {
     "data": {
      "image/png": "[encoded data removed]",
      "text/plain": [
       "<Figure size 432x288 with 1 Axes>"
      ]
     },
     "metadata": {
      "needs_background": "light"
     },
     "output_type": "display_data"
    },
    {
     "data": {
      "image/png": "[encoded data removed]",
      "text/plain": [
       "<Figure size 432x288 with 1 Axes>"
      ]
     },
     "metadata": {
      "needs_background": "light"
     },
     "output_type": "display_data"
    },
    {
     "name": "stdout",
     "output_type": "stream",
     "text": [
      "1990/1990 [==============================] - 0s 163us/step\n"
     ]
    },
    {
     "data": {
      "text/plain": [
       "0.9100502513161856"
      ]
     },
     "execution_count": 120,
     "metadata": {},
     "output_type": "execute_result"
    }
   ],
   "source": [
    "# define model\n",
    "model4_drop_recdrop_l1 = Sequential()\n",
    "# load pre-trained word embeddings into an Embedding layer\n",
    "# note that we set trainable = False so as to keep the embeddings fixed\n",
    "embedding_layer = Embedding(num_words,\n",
    "                            EMBEDDING_DIM,\n",
    "                            embeddings_initializer=Constant(embedding_matrix),\n",
    "                            input_length=max_length,\n",
    "                            trainable=False)\n",
    "\n",
    "model4_drop_recdrop_l1.add(embedding_layer)\n",
    "#model4_drop_recdrop_l1.add(CuDNNLSTM(32, dropout=0.2, recurrent_dropout=0.2, kernel_regularizer=keras.regularizers.l1(0.01)))\n",
    "model4_drop_recdrop_l1.add(CuDNNLSTM(32, recurrent_regularizer=keras.regularizers.l2(0.05), kernel_regularizer=keras.regularizers.l2(0.05)))\n",
    "model4_drop_recdrop_l1.add(Dense(1, activation='sigmoid'))\n",
    "print(model4_drop_recdrop_l1.summary())\n",
    "\n",
    "# compile network\n",
    "model4_drop_recdrop_l1.compile(loss='binary_crossentropy', optimizer='adam', metrics=['accuracy'])\n",
    "\n",
    "# fit the model\n",
    "model4_drop_recdrop_l1.fit(x_train, y_train, epochs=10, validation_data=(x_val, y_val), verbose=2)\n",
    "\n",
    "loss = model4_drop_recdrop_l1.history.history['loss']\n",
    "val_loss = model4_drop_recdrop_l1.history.history['val_loss']\n",
    "\n",
    "epochs = range(1, len(acc) + 1)\n",
    "\n",
    "# \"bo\" is for \"blue dot\"\n",
    "plt.plot(epochs, loss, 'bo', label='Training loss')\n",
    "# b is for \"solid blue line\"\n",
    "plt.plot(epochs, val_loss, 'b', label='Validation loss')\n",
    "plt.title('Training and validation loss')\n",
    "plt.xlabel('Epochs')\n",
    "plt.ylabel('Loss')\n",
    "plt.legend()\n",
    "\n",
    "plt.show()\n",
    "\n",
    "acc = model4_drop_recdrop_l1.history.history['acc']\n",
    "val_acc =model4_drop_recdrop_l1.history.history['val_acc']\n",
    "\n",
    "plt.clf()   # clear figure\n",
    "\n",
    "plt.plot(epochs, acc, 'bo', label='Training acc')\n",
    "plt.plot(epochs, val_acc, 'b', label='Validation acc')\n",
    "plt.title('Training and validation accuracy')\n",
    "plt.xlabel('Epochs')\n",
    "plt.ylabel('Accuracy')\n",
    "plt.legend()\n",
    "\n",
    "plt.show()\n",
    "\n",
    "# evaluate the model on test set\n",
    "model4_drop_recdrop_l1.evaluate(x_test, y_test)[1]"
   ]
  },
  {
   "cell_type": "code",
   "execution_count": null,
   "metadata": {},
   "outputs": [],
   "source": []
  }
 ],
 "metadata": {
  "kernelspec": {
   "display_name": "Python 3",
   "language": "python",
   "name": "python3"
  },
  "language_info": {
   "codemirror_mode": {
    "name": "ipython",
    "version": 3
   },
   "file_extension": ".py",
   "mimetype": "text/x-python",
   "name": "python",
   "nbconvert_exporter": "python",
   "pygments_lexer": "ipython3",
   "version": "3.6.5"
  }
 },
 "nbformat": 4,
 "nbformat_minor": 2
}
